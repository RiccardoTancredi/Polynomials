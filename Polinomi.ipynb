{
 "cells": [
  {
   "cell_type": "code",
   "execution_count": 13,
   "metadata": {},
   "outputs": [],
   "source": [
    "class polinomio:\n",
    "    def __init__(self, x:list):\n",
    "        self.coefficienti = x\n",
    "\n",
    "    #grado del polinomio\n",
    "    def grado(self):\n",
    "        if len(x) > 0:\n",
    "            grado_del_polinomio = len(x) - 1 \n",
    "        else:\n",
    "            grado_del_polinomio = 0\n",
    "        self.grado = grado_del_polinomio ##posso farlo? Ora questa è una variabile d'ambiente?\n",
    "        print(\"Il polinomio inserito è di grado\", grado_del_polinomio)\n",
    "        return grado_del_polinomio\n",
    "\n",
    "    #scrittura del polinomio:\n",
    "    def __str__(self):\n",
    "        output = \"\"\n",
    "        for i in range(0, len(self.coefficienti)):\n",
    "            if (((self.coefficienti[i] == 1 or self.coefficienti[i] == 1.0)and self.grado-i == 1)):# and x[grado_polinomio]!=0):\n",
    "                output += \"x\"\n",
    "            if self.grado-i == 1 and (self.coefficienti[i] != 0 and self.coefficienti[i] != 1 and self.coefficienti[i] != -1 and self.coefficienti[i] != 1.0 and self.coefficienti[i] != -1.0):\n",
    "                output += \"{}x\".format(self.coefficienti[i])\n",
    "            if self.coefficienti[i] == 0: \n",
    "                pass\n",
    "                #continue\n",
    "            if self.grado-i != 0 and self.grado-i != 1 and (self.coefficienti[i] != 0 and self.coefficienti[i] != 1 and self.coefficienti[i] != -1 and self.coefficienti[i] != 1.0 and self.coefficienti[i] != -1.0):\n",
    "                output += \"{}x^{}\".format(self.coefficienti[i], self.grado-i)\n",
    "                #continue\n",
    "                #print(x[i], \"$x^\", grado_polinomio-i, \"$ + \")\n",
    "            if (self.coefficienti[i] == 1 or self.coefficienti[i] == 1.0) and self.grado-i != 1 and self.grado-i != 0:\n",
    "                output += \"x^{}\".format(self.grado-i)\n",
    "                #continue\n",
    "            elif (self.coefficienti[i] == -1 or self.coefficienti[i] == -1.0) and self.grado-i != 1 and self.grado-i != 0:\n",
    "                output += \"-x^{}\".format(self.grado-i)\n",
    "                #continue\n",
    "            elif self.coefficienti[i] != 0 and self.grado-i == 0:\n",
    "                output += \"{}\".format(self.coefficienti[i])\n",
    "            if ((self.coefficienti[i] == -1 or self.coefficienti[i] == -1.0) and self.grado-i == 1):# and x[grado_polinomio]!=0):\n",
    "                output += \"-x\"\n",
    "            if self.grado-i == 1 and (self.coefficienti[i] != 0 and (self.coefficienti[i] != -1 or self.coefficienti[i] != -1.0) and (self.coefficienti[i] != 1 or self.coefficienti[i] != 1.0)):\n",
    "                output += \"{}x\".format(self.coefficienti[i])\n",
    "            if i != len(x)-1 and self.coefficienti[i+1] != 0:\n",
    "                output += \"+\"\n",
    "                continue\n",
    "        return output\n",
    "\n",
    "    def __add__(self, y:list):\n",
    "#         self = x\n",
    "#         other = y\n",
    "        c = []\n",
    "        n = min(len(self.coefficienti), len(y))\n",
    "        m = max(len(self.coefficienti), len(y))\n",
    "        d = []\n",
    "        if m == len(self.coefficienti):\n",
    "            d = self.coefficienti\n",
    "        else:\n",
    "            d = y\n",
    "        for i in range(0, m-n):\n",
    "            c.append(d[i])\n",
    "        if m == len(self.coefficienti):\n",
    "            for j in range(m-n, m):\n",
    "                z = self.coefficienti[j] + y[j-m+n]\n",
    "                c.append(z)\n",
    "        else:\n",
    "            for j in range(m-n, m):\n",
    "                z = self.coefficienti[j-m+n] + y[j]\n",
    "                c.append(z)\n",
    "        f = polinomio(c)\n",
    "        return str(f)\n",
    "    \n",
    "    def __sub__(self,y:list):\n",
    "        c = []\n",
    "        for i in y:\n",
    "            c.append(-i)\n",
    "        f = self.coefficienti + c\n",
    "        return f\n",
    "        # if len(self.coefficienti) >= len(y):\n",
    "        #     x = x\n",
    "        #     y = y\n",
    "        #     c = []\n",
    "        #     n = min(len(x), len(y))\n",
    "        #     m = max(len(x), len(y))\n",
    "        #     d = []\n",
    "        #     if m == len(x) :\n",
    "        #         d = x\n",
    "        #         for i in range(0, m-n):\n",
    "        #             c.append(d[i])\n",
    "        #         for j in range(m-n, m):\n",
    "        #             z = x[j] - y[j-m+n]\n",
    "        #             c.append(z)\n",
    "        #     else:\n",
    "        #         d = y\n",
    "        #         for i in range(0, m-n):\n",
    "        #             c.append(d[i])\n",
    "        #         for j in range(m-n, m):\n",
    "        #             z = x[j-m+n] - y[j]\n",
    "        #             c.append(z)\n",
    "        # else:\n",
    "        #     y = t\n",
    "        #     x = y\n",
    "        #     y = t\n",
    "        #     c = []\n",
    "        #     n = min(len(x), len(y))\n",
    "        #     m = max(len(x), len(y))\n",
    "        #     d = []\n",
    "        #     if m == len(x) :\n",
    "        #         d = x\n",
    "        #         for i in range(0, m-n):\n",
    "        #             c.append(-d[i])\n",
    "        #         for j in range(m-n, m):\n",
    "        #             z = -(x[j] - y[j-m+n])\n",
    "        #             c.append(z)\n",
    "        #     else:\n",
    "        #         d = y\n",
    "        #         for i in range(0, m-n):\n",
    "        #             c.append(-d[i])\n",
    "        #         for j in range(m-n, m):\n",
    "        #             z = -(x[j-m+n] - y[j])\n",
    "        #             c.append(z)\n",
    "        # return (c)\n",
    "    \n",
    "    def __mul__(self,y:list):\n",
    "        self.grado = (len(self.coefficienti)-1)+(len(self.y)-1)\n",
    "        d = [[],[]]\n",
    "        for i in range(len(self.coefficienti)):\n",
    "            for j in range(len(y)):\n",
    "                d[0].append(self.coefficienti[i]*y[j])\n",
    "                d[1].append(i+j)#grado del monomio\n",
    "        d[1] = d[1][::-1] \n",
    "        #print(d)\n",
    "        for i in range(self.grado+1): \n",
    "            if d[1].count(self.grado-i) > 1:\n",
    "                j = d[1].index(self.grado -i)\n",
    "                #print(\"j vale: \", j)\n",
    "                z = j+1\n",
    "                while z < len(d[1]):\n",
    "                    if d[1][z] == d[1][j]:\n",
    "                        #print(\"z vale:\", z)\n",
    "                        d[0][j] = d[0][j]+d[0][z]\n",
    "                        d[1].pop(z)\n",
    "                        d[0].pop(z)\n",
    "                        #print(d)\n",
    "                    z += 1\n",
    "        f = polinomio(d[0])\n",
    "        return str(f)\n",
    "    \n",
    "    def __pow__(self,var):\n",
    "        f = self.coefficienti\n",
    "        for i in range(0,var-1):\n",
    "            h = f*self.coefficienti\n",
    "            f = h\n",
    "        return f\n",
    "            \n",
    "    def __truediv__(self,y:list, c = []):\n",
    "        i, j = 0, 0\n",
    "        while i < len(self.coefficienti):\n",
    "            if self.coefficienti[0] == 0:\n",
    "                self.coefficienti.pop(0)\n",
    "            i += 1\n",
    "        while j < len(y):\n",
    "            if y[0] == 0:\n",
    "                y.pop(0)\n",
    "            j += 1\n",
    "        d = [[],[]]\n",
    "        s = polinomio.grado(self.coefficienti)\n",
    "        v = polinomio.grado(y)\n",
    "        grado_polinomio_risultante = s-v\n",
    "        output = \"\"\n",
    "        if s < v:\n",
    "            output += str(polinomio(c))            #capisce che questo è un polinomio???\n",
    "            output += \"+\"\n",
    "            output += \"(\"+str(self.coefficienti)+\")\"\n",
    "            output += \"/\"\n",
    "            output += str(polinomio(y))            #capisce che questo è un polinomio???\n",
    "            return output\n",
    "        elif s == 0:\n",
    "            f = polinomio(c)\n",
    "            return(str(f))\n",
    "        \n",
    "        else:\n",
    "            d[1].append(grado_polinomio_risultante)\n",
    "            d[0].append(self.coefficienti[0]/y[0])\n",
    "            for i in range(0,grado_polinomio_risultante):\n",
    "                d[0].append(0)\n",
    "            c.append(d[0][0])   \n",
    "            #g = polinomio.prodotto(d[0], y)\n",
    "            a = polinomio(d[0])\n",
    "            g = a*y\n",
    "            if len(self.g) != len(self.coefficienti):\n",
    "                for e in range(0, len(self.coefficienti)-len(self.g)):\n",
    "                    self.g.append(0)                \n",
    "            #print(g)\n",
    "            f = x-g\n",
    "            i = 0\n",
    "            while i < len(self.f):\n",
    "                if self.f[0] == 0:\n",
    "                    self.f.pop(0)\n",
    "                i += 1\n",
    "            u = polinomio(y)\n",
    "            if (polinomio.grado(f) - polinomio.grado(u)) == 0 and (len(self.f)-len(c))> 1: #Non so se va bene: f capisce che è self? o devo mettere self.f (non credo)? \n",
    "                c.append(0)\n",
    "            return polinomio.rapporto(f,y,c) #??? e mo? __truediv__ prende 2 argomenti, ma io ne voglio 3\n",
    "        "
   ]
  },
  {
   "cell_type": "markdown",
   "metadata": {},
   "source": [
    "#Scrittura del Polinomio in Latex"
   ]
  },
  {
   "cell_type": "code",
   "execution_count": null,
   "metadata": {},
   "outputs": [],
   "source": [
    "# from IPython.display import display, Math\n",
    "# class polinomio:\n",
    "#     def __init__(self, x:list):\n",
    "#         self.coefficienti = x\n",
    "#         #scrittura del polinomio:\n",
    "#         i, j = 0, 0\n",
    "#         while i < len(x):\n",
    "#             if x[0] == 0:\n",
    "#                 x.pop(0)\n",
    "#             i += 1\n",
    "#         while j < len(y):\n",
    "#             if y[0] == 0:\n",
    "#                 y.pop(0)\n",
    "#             j += 1\n",
    "#         if len(x) > 0:\n",
    "#             grado_polinomio = len(x) - 1 \n",
    "#         else:\n",
    "#             grado_polinomio = 0\n",
    "#         print(\"Il polinomio inserito è di grado\", grado_polinomio)\n",
    "#         for i in range(0, len(x)):\n",
    "#             if (((x[i] == 1 or x[i] == 1.0)and grado_polinomio-i == 1)):# and x[grado_polinomio]!=0):\n",
    "#                 display(Math(r'x'))\n",
    "#                 #continue\n",
    "# #             elif ((x[i] == 1 and grado_polinomio-i == 1) and x[grado_polinomio]==0):\n",
    "# #                 display(Math(r'x'))\n",
    "# #                 #continue\n",
    "#             if grado_polinomio-i == 1 and (x[i] != 0 and x[i] != 1 and x[i] != -1 and x[i] != 1.0 and x[i] != -1.0):\n",
    "#                 display(Math(r'{}x'.format(x[i])))\n",
    "#             if x[i] == 0: \n",
    "#                 pass\n",
    "#                 #continue\n",
    "#             if grado_polinomio-i != 0 and grado_polinomio-i != 1 and (x[i] != 0 and x[i] != 1 and x[i] != -1 and x[i] != 1.0 and x[i] != -1.0):\n",
    "#                 display(Math(r'{}x^{}'.format(x[i], grado_polinomio-i)))\n",
    "#                 #continue\n",
    "#                 #print(x[i], \"$x^\", grado_polinomio-i, \"$ + \")\n",
    "#             if (x[i] == 1 or x[i] == 1.0) and grado_polinomio-i != 1 and grado_polinomio-i != 0:\n",
    "#                 display(Math(r'x^{}'.format(grado_polinomio-i)))\n",
    "#                 #continue\n",
    "#             elif (x[i] == -1 or x[i] == -1.0) and grado_polinomio-i != 1 and grado_polinomio-i != 0:\n",
    "#                 display(Math(r'-x^{}'.format(grado_polinomio-i)))\n",
    "#                 #continue\n",
    "#             elif x[i] != 0 and grado_polinomio-i == 0:\n",
    "#                 display(Math(r'{}'.format(x[i])))\n",
    "# #             if i != len(x)-1 and x[i+1] > 0:\n",
    "# #                 display(Math(r'+'))\n",
    "# #                 continue\n",
    "#             if ((x[i] == -1 or x[i] == -1.0) and grado_polinomio-i == 1):# and x[grado_polinomio]!=0):\n",
    "#                 display(Math(r'-x'))\n",
    "#                 #continue\n",
    "# #             elif ((x[i] == 1 and grado_polinomio-i == 1) and x[grado_polinomio]==0):\n",
    "# #                 display(Math(r'x'))\n",
    "# #                 #continue\n",
    "#             if grado_polinomio-i == 1 and (x[i] != 0 and (x[i] != -1 or x[i] != -1.0) and (x[i] != 1 or x[i] != 1.0)):\n",
    "#                 display(Math(r'{}x'.format(x[i])))\n",
    "#             if i != len(x)-1 and x[i+1] != 0:\n",
    "#                 display(Math(r'+'))\n",
    "#                 continue\n",
    "\n",
    "#     def grado_polinomio(x):\n",
    "#         if len(x) > 0:\n",
    "#             grado_del_polinomio = len(x) - 1 \n",
    "#         else:\n",
    "#             grado_del_polinomio = 0\n",
    "#         return grado_del_polinomio\n",
    "#     def somma(x:list,y:list):\n",
    "# #         self = x\n",
    "# #         other = y\n",
    "#         c = []\n",
    "#         n = min(len(x), len(y))\n",
    "#         m = max(len(x), len(y))\n",
    "#         d = []\n",
    "#         if m == len(x):\n",
    "#             d = x\n",
    "#         else:\n",
    "#             d = y\n",
    "#         for i in range(0, m-n):\n",
    "#             c.append(d[i])\n",
    "#         if m == len(x):\n",
    "#             for j in range(m-n, m):\n",
    "#                 z = x[j] + y[j-m+n]\n",
    "#                 c.append(z)\n",
    "#         else:\n",
    "#             for j in range(m-n, m):\n",
    "#                 z = x[j-m+n] + y[j]\n",
    "#                 c.append(z)\n",
    "#         return (c)\n",
    "    \n",
    "#     def differenza(x:list,y:list):\n",
    "#         if len(x) >= len(y):\n",
    "#             x = x\n",
    "#             y = y\n",
    "#             c = []\n",
    "#             n = min(len(x), len(y))\n",
    "#             m = max(len(x), len(y))\n",
    "#             d = []\n",
    "#             if m == len(x) :\n",
    "#                 d = x\n",
    "#                 for i in range(0, m-n):\n",
    "#                     c.append(d[i])\n",
    "#                 for j in range(m-n, m):\n",
    "#                     z = x[j] - y[j-m+n]\n",
    "#                     c.append(z)\n",
    "#             else:\n",
    "#                 d = y\n",
    "#                 for i in range(0, m-n):\n",
    "#                     c.append(d[i])\n",
    "#                 for j in range(m-n, m):\n",
    "#                     z = x[j-m+n] - y[j]\n",
    "#                     c.append(z)\n",
    "#         else:\n",
    "#             y = t\n",
    "#             x = y\n",
    "#             y = t\n",
    "#             c = []\n",
    "#             n = min(len(x), len(y))\n",
    "#             m = max(len(x), len(y))\n",
    "#             d = []\n",
    "#             if m == len(x) :\n",
    "#                 d = x\n",
    "#                 for i in range(0, m-n):\n",
    "#                     c.append(-d[i])\n",
    "#                 for j in range(m-n, m):\n",
    "#                     z = -(x[j] - y[j-m+n])\n",
    "#                     c.append(z)\n",
    "#             else:\n",
    "#                 d = y\n",
    "#                 for i in range(0, m-n):\n",
    "#                     c.append(-d[i])\n",
    "#                 for j in range(m-n, m):\n",
    "#                     z = -(x[j-m+n] - y[j])\n",
    "#                     c.append(z)\n",
    "#         return (c)\n",
    "    \n",
    "#     def prodotto(x:list,y:list):\n",
    "# #         self = x\n",
    "# #         other = y\n",
    "#         grado_polinomio = (len(x)-1)+(len(y)-1)\n",
    "#         d = [[],[]]\n",
    "#         for i in range(len(x)):\n",
    "#             for j in range(len(y)):\n",
    "#                 d[0].append(x[i]*y[j])\n",
    "#                 d[1].append(i+j)#grado del monomio\n",
    "#         d[1] = d[1][::-1] \n",
    "#         #print(d)\n",
    "#         for i in range(grado_polinomio+1): \n",
    "#             if d[1].count(grado_polinomio-i) > 1:\n",
    "#                 j = d[1].index(grado_polinomio -i)\n",
    "#                 #print(\"j vale: \", j)\n",
    "#                 z = j+1\n",
    "#                 while z < len(d[1]):\n",
    "#                     if d[1][z] == d[1][j]:\n",
    "#                         #print(\"z vale:\", z)\n",
    "#                         d[0][j] = d[0][j]+d[0][z]\n",
    "#                         d[1].pop(z)\n",
    "#                         d[0].pop(z)\n",
    "#                         #print(d)\n",
    "#                     z += 1\n",
    "#         return (d[0])\n",
    "    \n",
    "#     def potenza(x:list,var:int):\n",
    "#         f = x\n",
    "#         for i in range(0,var-1):\n",
    "#             h = polinomio.prodotto(f,x)\n",
    "#             f = h\n",
    "#         return f\n",
    "    \n",
    "# #     def scrittura_rapporto(c:list, x:list, y:list):\n",
    "# #             polinomio(c)\n",
    "# #             display(Math(r'+'))\n",
    "# #             polinomio(x)\n",
    "# #             display(Math(r'/'))\n",
    "# #             polinomio(y)\n",
    "            \n",
    "#     def rapporto(x:list,y:list, c = []):\n",
    "# #         self = x\n",
    "# #         other = y\n",
    "#         i, j = 0, 0\n",
    "#         while i < len(x):\n",
    "#             if x[0] == 0:\n",
    "#                 x.pop(0)\n",
    "#             i += 1\n",
    "#         while j < len(y):\n",
    "#             if y[0] == 0:\n",
    "#                 y.pop(0)\n",
    "#             j += 1\n",
    "#         d = [[],[]]\n",
    "#         s = polinomio.grado_polinomio(x)\n",
    "#         v = polinomio.grado_polinomio(y)\n",
    "#         grado_polinomio_risultante = s-v\n",
    "#         #while (s-v) >= 0:\n",
    "#         #for b in  range(0, grado_polinomio_risultante):\n",
    "#         if s < v:\n",
    "#             polinomio(c)\n",
    "#             display(Math(r'+'))\n",
    "#             polinomio(x)\n",
    "#             display(Math(r'//'))\n",
    "#             polinomio(y)\n",
    "            \n",
    "#         elif s == 0:\n",
    "#             return(c)\n",
    "        \n",
    "#         else:\n",
    "#             d[1].append(grado_polinomio_risultante)\n",
    "#             d[0].append(x[0]/y[0])\n",
    "#             for i in range(0,grado_polinomio_risultante):\n",
    "#                 d[0].append(0)\n",
    "#             c.append(d[0][0])   \n",
    "#             g = polinomio.prodotto(d[0], y)\n",
    "#             if len(g) != len(x):\n",
    "#                 for e in range(0, len(x)-len(g)):\n",
    "#                     g.append(0)                \n",
    "#             print(g)\n",
    "#             f = polinomio.differenza(x,g)\n",
    "#             i = 0\n",
    "#             while i < len(f):\n",
    "#                 if f[0] == 0:\n",
    "#                     f.pop(0)\n",
    "#                 i += 1\n",
    "#             if (polinomio.grado_polinomio(f) - polinomio.grado_polinomio(y)) == 0 and (len(f)-len(c))> 1:\n",
    "#                 c.append(0)\n",
    "#             return polinomio.rapporto(f,y,c)\n",
    "        "
   ]
  },
  {
   "cell_type": "code",
   "execution_count": 2,
   "metadata": {},
   "outputs": [],
   "source": [
    "x = [1,1,2,1,1]\n",
    "y = [1,0,1]"
   ]
  },
  {
   "cell_type": "code",
   "execution_count": 3,
   "metadata": {
    "tags": []
   },
   "outputs": [
    {
     "output_type": "stream",
     "name": "stdout",
     "text": "Il polinomio inserito è di grado 4\n"
    },
    {
     "output_type": "display_data",
     "data": {
      "text/plain": "<IPython.core.display.Math object>",
      "text/latex": "$\\displaystyle x^4$"
     },
     "metadata": {}
    },
    {
     "output_type": "display_data",
     "data": {
      "text/plain": "<IPython.core.display.Math object>",
      "text/latex": "$\\displaystyle +$"
     },
     "metadata": {}
    },
    {
     "output_type": "display_data",
     "data": {
      "text/plain": "<IPython.core.display.Math object>",
      "text/latex": "$\\displaystyle x^3$"
     },
     "metadata": {}
    },
    {
     "output_type": "display_data",
     "data": {
      "text/plain": "<IPython.core.display.Math object>",
      "text/latex": "$\\displaystyle +$"
     },
     "metadata": {}
    },
    {
     "output_type": "display_data",
     "data": {
      "text/plain": "<IPython.core.display.Math object>",
      "text/latex": "$\\displaystyle 3x^2$"
     },
     "metadata": {}
    },
    {
     "output_type": "display_data",
     "data": {
      "text/plain": "<IPython.core.display.Math object>",
      "text/latex": "$\\displaystyle +$"
     },
     "metadata": {}
    },
    {
     "output_type": "display_data",
     "data": {
      "text/plain": "<IPython.core.display.Math object>",
      "text/latex": "$\\displaystyle x$"
     },
     "metadata": {}
    },
    {
     "output_type": "display_data",
     "data": {
      "text/plain": "<IPython.core.display.Math object>",
      "text/latex": "$\\displaystyle +$"
     },
     "metadata": {}
    },
    {
     "output_type": "display_data",
     "data": {
      "text/plain": "<IPython.core.display.Math object>",
      "text/latex": "$\\displaystyle 2$"
     },
     "metadata": {}
    },
    {
     "output_type": "execute_result",
     "data": {
      "text/plain": "<__main__.polinomio at 0x1ee18d9ab08>"
     },
     "metadata": {},
     "execution_count": 3
    }
   ],
   "source": [
    "f = polinomio.somma(y,x)\n",
    "polinomio(f)"
   ]
  },
  {
   "cell_type": "code",
   "execution_count": 4,
   "metadata": {
    "tags": []
   },
   "outputs": [
    {
     "output_type": "stream",
     "name": "stdout",
     "text": "Il polinomio inserito è di grado 4\n"
    },
    {
     "output_type": "display_data",
     "data": {
      "text/plain": "<IPython.core.display.Math object>",
      "text/latex": "$\\displaystyle x^4$"
     },
     "metadata": {}
    },
    {
     "output_type": "display_data",
     "data": {
      "text/plain": "<IPython.core.display.Math object>",
      "text/latex": "$\\displaystyle +$"
     },
     "metadata": {}
    },
    {
     "output_type": "display_data",
     "data": {
      "text/plain": "<IPython.core.display.Math object>",
      "text/latex": "$\\displaystyle x^3$"
     },
     "metadata": {}
    },
    {
     "output_type": "display_data",
     "data": {
      "text/plain": "<IPython.core.display.Math object>",
      "text/latex": "$\\displaystyle +$"
     },
     "metadata": {}
    },
    {
     "output_type": "display_data",
     "data": {
      "text/plain": "<IPython.core.display.Math object>",
      "text/latex": "$\\displaystyle x^2$"
     },
     "metadata": {}
    },
    {
     "output_type": "display_data",
     "data": {
      "text/plain": "<IPython.core.display.Math object>",
      "text/latex": "$\\displaystyle +$"
     },
     "metadata": {}
    },
    {
     "output_type": "display_data",
     "data": {
      "text/plain": "<IPython.core.display.Math object>",
      "text/latex": "$\\displaystyle x$"
     },
     "metadata": {}
    },
    {
     "output_type": "execute_result",
     "data": {
      "text/plain": "<__main__.polinomio at 0x1ee18da68c8>"
     },
     "metadata": {},
     "execution_count": 4
    }
   ],
   "source": [
    "f = polinomio.differenza(x,y)\n",
    "polinomio(f)"
   ]
  },
  {
   "cell_type": "code",
   "execution_count": 5,
   "metadata": {
    "tags": []
   },
   "outputs": [
    {
     "output_type": "stream",
     "name": "stdout",
     "text": "Il polinomio inserito è di grado 6\n"
    },
    {
     "output_type": "display_data",
     "data": {
      "text/plain": "<IPython.core.display.Math object>",
      "text/latex": "$\\displaystyle x^6$"
     },
     "metadata": {}
    },
    {
     "output_type": "display_data",
     "data": {
      "text/plain": "<IPython.core.display.Math object>",
      "text/latex": "$\\displaystyle +$"
     },
     "metadata": {}
    },
    {
     "output_type": "display_data",
     "data": {
      "text/plain": "<IPython.core.display.Math object>",
      "text/latex": "$\\displaystyle x^5$"
     },
     "metadata": {}
    },
    {
     "output_type": "display_data",
     "data": {
      "text/plain": "<IPython.core.display.Math object>",
      "text/latex": "$\\displaystyle +$"
     },
     "metadata": {}
    },
    {
     "output_type": "display_data",
     "data": {
      "text/plain": "<IPython.core.display.Math object>",
      "text/latex": "$\\displaystyle 3x^4$"
     },
     "metadata": {}
    },
    {
     "output_type": "display_data",
     "data": {
      "text/plain": "<IPython.core.display.Math object>",
      "text/latex": "$\\displaystyle +$"
     },
     "metadata": {}
    },
    {
     "output_type": "display_data",
     "data": {
      "text/plain": "<IPython.core.display.Math object>",
      "text/latex": "$\\displaystyle 2x^3$"
     },
     "metadata": {}
    },
    {
     "output_type": "display_data",
     "data": {
      "text/plain": "<IPython.core.display.Math object>",
      "text/latex": "$\\displaystyle +$"
     },
     "metadata": {}
    },
    {
     "output_type": "display_data",
     "data": {
      "text/plain": "<IPython.core.display.Math object>",
      "text/latex": "$\\displaystyle 3x^2$"
     },
     "metadata": {}
    },
    {
     "output_type": "display_data",
     "data": {
      "text/plain": "<IPython.core.display.Math object>",
      "text/latex": "$\\displaystyle +$"
     },
     "metadata": {}
    },
    {
     "output_type": "display_data",
     "data": {
      "text/plain": "<IPython.core.display.Math object>",
      "text/latex": "$\\displaystyle x$"
     },
     "metadata": {}
    },
    {
     "output_type": "display_data",
     "data": {
      "text/plain": "<IPython.core.display.Math object>",
      "text/latex": "$\\displaystyle +$"
     },
     "metadata": {}
    },
    {
     "output_type": "display_data",
     "data": {
      "text/plain": "<IPython.core.display.Math object>",
      "text/latex": "$\\displaystyle 1$"
     },
     "metadata": {}
    },
    {
     "output_type": "execute_result",
     "data": {
      "text/plain": "<__main__.polinomio at 0x1ee18daf788>"
     },
     "metadata": {},
     "execution_count": 5
    }
   ],
   "source": [
    "f = polinomio.prodotto(x,y)\n",
    "polinomio(f)"
   ]
  },
  {
   "cell_type": "code",
   "execution_count": 6,
   "metadata": {
    "tags": []
   },
   "outputs": [
    {
     "output_type": "stream",
     "name": "stdout",
     "text": "[1, 0, 1, 0, 0]\nIl polinomio inserito è di grado 4\n"
    },
    {
     "output_type": "display_data",
     "data": {
      "text/plain": "<IPython.core.display.Math object>",
      "text/latex": "$\\displaystyle x^4$"
     },
     "metadata": {}
    },
    {
     "output_type": "display_data",
     "data": {
      "text/plain": "<IPython.core.display.Math object>",
      "text/latex": "$\\displaystyle +$"
     },
     "metadata": {}
    },
    {
     "output_type": "display_data",
     "data": {
      "text/plain": "<IPython.core.display.Math object>",
      "text/latex": "$\\displaystyle x^2$"
     },
     "metadata": {}
    },
    {
     "output_type": "execute_result",
     "data": {
      "text/plain": "<__main__.polinomio at 0x1ee18daf108>"
     },
     "metadata": {},
     "execution_count": 6
    }
   ],
   "source": [
    "x = [1,0,0]\n",
    "y = [1,0,1]\n",
    "f = polinomio.prodotto(x,y)\n",
    "print(f)\n",
    "polinomio(f)"
   ]
  },
  {
   "cell_type": "code",
   "execution_count": 7,
   "metadata": {
    "tags": []
   },
   "outputs": [
    {
     "output_type": "stream",
     "name": "stdout",
     "text": "[1, 0, 3, 0, 3, 0, 1]\nIl polinomio inserito è di grado 6\n"
    },
    {
     "output_type": "display_data",
     "data": {
      "text/plain": "<IPython.core.display.Math object>",
      "text/latex": "$\\displaystyle x^6$"
     },
     "metadata": {}
    },
    {
     "output_type": "display_data",
     "data": {
      "text/plain": "<IPython.core.display.Math object>",
      "text/latex": "$\\displaystyle +$"
     },
     "metadata": {}
    },
    {
     "output_type": "display_data",
     "data": {
      "text/plain": "<IPython.core.display.Math object>",
      "text/latex": "$\\displaystyle 3x^4$"
     },
     "metadata": {}
    },
    {
     "output_type": "display_data",
     "data": {
      "text/plain": "<IPython.core.display.Math object>",
      "text/latex": "$\\displaystyle +$"
     },
     "metadata": {}
    },
    {
     "output_type": "display_data",
     "data": {
      "text/plain": "<IPython.core.display.Math object>",
      "text/latex": "$\\displaystyle 3x^2$"
     },
     "metadata": {}
    },
    {
     "output_type": "display_data",
     "data": {
      "text/plain": "<IPython.core.display.Math object>",
      "text/latex": "$\\displaystyle +$"
     },
     "metadata": {}
    },
    {
     "output_type": "display_data",
     "data": {
      "text/plain": "<IPython.core.display.Math object>",
      "text/latex": "$\\displaystyle 1$"
     },
     "metadata": {}
    },
    {
     "output_type": "execute_result",
     "data": {
      "text/plain": "<__main__.polinomio at 0x1ee18da9588>"
     },
     "metadata": {},
     "execution_count": 7
    }
   ],
   "source": [
    "x = [1,0,1]\n",
    "f = polinomio.potenza(x,3)\n",
    "print(f)\n",
    "polinomio(f)"
   ]
  },
  {
   "cell_type": "code",
   "execution_count": 8,
   "metadata": {
    "scrolled": false,
    "tags": []
   },
   "outputs": [
    {
     "output_type": "stream",
     "name": "stdout",
     "text": "[1.0, 0.0, 1.0, 0, 0]\n[1.0, 0.0, 1.0, 0]\n[1.0, 0.0, 1.0]\nIl polinomio inserito è di grado 2\n"
    },
    {
     "output_type": "display_data",
     "data": {
      "text/plain": "<IPython.core.display.Math object>",
      "text/latex": "$\\displaystyle x^2$"
     },
     "metadata": {}
    },
    {
     "output_type": "display_data",
     "data": {
      "text/plain": "<IPython.core.display.Math object>",
      "text/latex": "$\\displaystyle +$"
     },
     "metadata": {}
    },
    {
     "output_type": "display_data",
     "data": {
      "text/plain": "<IPython.core.display.Math object>",
      "text/latex": "$\\displaystyle x$"
     },
     "metadata": {}
    },
    {
     "output_type": "display_data",
     "data": {
      "text/plain": "<IPython.core.display.Math object>",
      "text/latex": "$\\displaystyle +$"
     },
     "metadata": {}
    },
    {
     "output_type": "display_data",
     "data": {
      "text/plain": "<IPython.core.display.Math object>",
      "text/latex": "$\\displaystyle 1.0$"
     },
     "metadata": {}
    },
    {
     "output_type": "display_data",
     "data": {
      "text/plain": "<IPython.core.display.Math object>",
      "text/latex": "$\\displaystyle +$"
     },
     "metadata": {}
    },
    {
     "output_type": "stream",
     "name": "stdout",
     "text": "Il polinomio inserito è di grado 0\n"
    },
    {
     "output_type": "display_data",
     "data": {
      "text/plain": "<IPython.core.display.Math object>",
      "text/latex": "$\\displaystyle //$"
     },
     "metadata": {}
    },
    {
     "output_type": "stream",
     "name": "stdout",
     "text": "Il polinomio inserito è di grado 2\n"
    },
    {
     "output_type": "display_data",
     "data": {
      "text/plain": "<IPython.core.display.Math object>",
      "text/latex": "$\\displaystyle x^2$"
     },
     "metadata": {}
    },
    {
     "output_type": "display_data",
     "data": {
      "text/plain": "<IPython.core.display.Math object>",
      "text/latex": "$\\displaystyle +$"
     },
     "metadata": {}
    },
    {
     "output_type": "display_data",
     "data": {
      "text/plain": "<IPython.core.display.Math object>",
      "text/latex": "$\\displaystyle 1$"
     },
     "metadata": {}
    },
    {
     "output_type": "stream",
     "name": "stdout",
     "text": "None\n"
    },
    {
     "output_type": "error",
     "ename": "TypeError",
     "evalue": "object of type 'NoneType' has no len()",
     "traceback": [
      "\u001b[1;31m---------------------------------------------------------------------------\u001b[0m",
      "\u001b[1;31mTypeError\u001b[0m                                 Traceback (most recent call last)",
      "\u001b[1;32m<ipython-input-8-0350fef14ecf>\u001b[0m in \u001b[0;36m<module>\u001b[1;34m\u001b[0m\n\u001b[0;32m      5\u001b[0m \u001b[0mf\u001b[0m \u001b[1;33m=\u001b[0m \u001b[0mpolinomio\u001b[0m\u001b[1;33m.\u001b[0m\u001b[0mrapporto\u001b[0m\u001b[1;33m(\u001b[0m\u001b[0mx\u001b[0m\u001b[1;33m,\u001b[0m\u001b[0my\u001b[0m\u001b[1;33m)\u001b[0m\u001b[1;33m\u001b[0m\u001b[1;33m\u001b[0m\u001b[0m\n\u001b[0;32m      6\u001b[0m \u001b[0mprint\u001b[0m\u001b[1;33m(\u001b[0m\u001b[0mf\u001b[0m\u001b[1;33m)\u001b[0m\u001b[1;33m\u001b[0m\u001b[1;33m\u001b[0m\u001b[0m\n\u001b[1;32m----> 7\u001b[1;33m \u001b[0mpolinomio\u001b[0m\u001b[1;33m(\u001b[0m\u001b[0mf\u001b[0m\u001b[1;33m)\u001b[0m\u001b[1;33m\u001b[0m\u001b[1;33m\u001b[0m\u001b[0m\n\u001b[0m",
      "\u001b[1;32m<ipython-input-1-a11a3709b39e>\u001b[0m in \u001b[0;36m__init__\u001b[1;34m(self, x)\u001b[0m\n\u001b[0;32m      5\u001b[0m         \u001b[1;31m#scrittura del polinomio:\u001b[0m\u001b[1;33m\u001b[0m\u001b[1;33m\u001b[0m\u001b[1;33m\u001b[0m\u001b[0m\n\u001b[0;32m      6\u001b[0m         \u001b[0mi\u001b[0m\u001b[1;33m,\u001b[0m \u001b[0mj\u001b[0m \u001b[1;33m=\u001b[0m \u001b[1;36m0\u001b[0m\u001b[1;33m,\u001b[0m \u001b[1;36m0\u001b[0m\u001b[1;33m\u001b[0m\u001b[1;33m\u001b[0m\u001b[0m\n\u001b[1;32m----> 7\u001b[1;33m         \u001b[1;32mwhile\u001b[0m \u001b[0mi\u001b[0m \u001b[1;33m<\u001b[0m \u001b[0mlen\u001b[0m\u001b[1;33m(\u001b[0m\u001b[0mx\u001b[0m\u001b[1;33m)\u001b[0m\u001b[1;33m:\u001b[0m\u001b[1;33m\u001b[0m\u001b[1;33m\u001b[0m\u001b[0m\n\u001b[0m\u001b[0;32m      8\u001b[0m             \u001b[1;32mif\u001b[0m \u001b[0mx\u001b[0m\u001b[1;33m[\u001b[0m\u001b[1;36m0\u001b[0m\u001b[1;33m]\u001b[0m \u001b[1;33m==\u001b[0m \u001b[1;36m0\u001b[0m\u001b[1;33m:\u001b[0m\u001b[1;33m\u001b[0m\u001b[1;33m\u001b[0m\u001b[0m\n\u001b[0;32m      9\u001b[0m                 \u001b[0mx\u001b[0m\u001b[1;33m.\u001b[0m\u001b[0mpop\u001b[0m\u001b[1;33m(\u001b[0m\u001b[1;36m0\u001b[0m\u001b[1;33m)\u001b[0m\u001b[1;33m\u001b[0m\u001b[1;33m\u001b[0m\u001b[0m\n",
      "\u001b[1;31mTypeError\u001b[0m: object of type 'NoneType' has no len()"
     ]
    }
   ],
   "source": [
    "x = [1,1,2,1,1]\n",
    "y = [1,0,1]\n",
    "# x = [1,0,2,0,1]\n",
    "# y = [1,0,1]\n",
    "f = polinomio.rapporto(x,y)\n",
    "print(f)\n",
    "polinomio(f)"
   ]
  },
  {
   "cell_type": "code",
   "execution_count": 9,
   "metadata": {
    "tags": []
   },
   "outputs": [
    {
     "output_type": "stream",
     "name": "stdout",
     "text": "Il polinomio inserito è di grado 2\n"
    },
    {
     "output_type": "display_data",
     "data": {
      "text/plain": "<IPython.core.display.Math object>",
      "text/latex": "$\\displaystyle x^2$"
     },
     "metadata": {}
    },
    {
     "output_type": "display_data",
     "data": {
      "text/plain": "<IPython.core.display.Math object>",
      "text/latex": "$\\displaystyle +$"
     },
     "metadata": {}
    },
    {
     "output_type": "display_data",
     "data": {
      "text/plain": "<IPython.core.display.Math object>",
      "text/latex": "$\\displaystyle x$"
     },
     "metadata": {}
    },
    {
     "output_type": "display_data",
     "data": {
      "text/plain": "<IPython.core.display.Math object>",
      "text/latex": "$\\displaystyle +$"
     },
     "metadata": {}
    },
    {
     "output_type": "display_data",
     "data": {
      "text/plain": "<IPython.core.display.Math object>",
      "text/latex": "$\\displaystyle 1.0$"
     },
     "metadata": {}
    },
    {
     "output_type": "display_data",
     "data": {
      "text/plain": "<IPython.core.display.Math object>",
      "text/latex": "$\\displaystyle +$"
     },
     "metadata": {}
    },
    {
     "output_type": "stream",
     "name": "stdout",
     "text": "Il polinomio inserito è di grado 0\n"
    },
    {
     "output_type": "display_data",
     "data": {
      "text/plain": "<IPython.core.display.Math object>",
      "text/latex": "$\\displaystyle 1$"
     },
     "metadata": {}
    },
    {
     "output_type": "display_data",
     "data": {
      "text/plain": "<IPython.core.display.Math object>",
      "text/latex": "$\\displaystyle //$"
     },
     "metadata": {}
    },
    {
     "output_type": "stream",
     "name": "stdout",
     "text": "Il polinomio inserito è di grado 2\n"
    },
    {
     "output_type": "display_data",
     "data": {
      "text/plain": "<IPython.core.display.Math object>",
      "text/latex": "$\\displaystyle x^2$"
     },
     "metadata": {}
    },
    {
     "output_type": "display_data",
     "data": {
      "text/plain": "<IPython.core.display.Math object>",
      "text/latex": "$\\displaystyle +$"
     },
     "metadata": {}
    },
    {
     "output_type": "display_data",
     "data": {
      "text/plain": "<IPython.core.display.Math object>",
      "text/latex": "$\\displaystyle 1$"
     },
     "metadata": {}
    }
   ],
   "source": [
    "x = [1]\n",
    "y = [1,0,1]\n",
    "# x = [1,0,2,0,1]\n",
    "# y = [1,0,1]\n",
    "f = polinomio.rapporto(x,y)"
   ]
  },
  {
   "cell_type": "code",
   "execution_count": 10,
   "metadata": {
    "tags": []
   },
   "outputs": [
    {
     "output_type": "stream",
     "name": "stdout",
     "text": "[-1, -2, -3, -4, -5]\n"
    }
   ],
   "source": [
    "c = [1,2,3,4,5]\n",
    "d = []\n",
    "for i in c:\n",
    "    d.append(-i)\n",
    "print(d)"
   ]
  }
 ],
 "metadata": {
  "kernelspec": {
   "display_name": "Python 3",
   "language": "python",
   "name": "python3"
  },
  "language_info": {
   "codemirror_mode": {
    "name": "ipython",
    "version": 3
   },
   "file_extension": ".py",
   "mimetype": "text/x-python",
   "name": "python",
   "nbconvert_exporter": "python",
   "pygments_lexer": "ipython3",
   "version": "3.7.4-final"
  }
 },
 "nbformat": 4,
 "nbformat_minor": 2
}
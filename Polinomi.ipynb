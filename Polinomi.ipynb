{
 "cells": [
  {
   "cell_type": "markdown",
   "metadata": {},
   "source": [
    "# Scrittura del Polinomio in Latex"
   ]
  },
  {
   "cell_type": "code",
   "execution_count": 1,
   "metadata": {},
   "outputs": [],
   "source": [
    "from IPython.display import display, Math\n",
    "class polinomio:\n",
    "    def __init__(self, x:list):\n",
    "        self.x = x\n",
    "        \n",
    "        #scrittura del polinomio:\n",
    "        i, j = 0, 0\n",
    "        while i < len(x):\n",
    "            if x[0] == 0:\n",
    "                x.pop(0)\n",
    "            i += 1\n",
    "        while j < len(y):\n",
    "            if y[0] == 0:\n",
    "                y.pop(0)\n",
    "            j += 1\n",
    "        if len(x) > 0:\n",
    "            grado_polinomio = len(x) - 1 \n",
    "        else:\n",
    "            grado_polinomio = 0\n",
    "        print(\"Il polinomio inserito è di grado\", grado_polinomio)\n",
    "        for i in range(0, len(x)):\n",
    "            if (((x[i] == 1 or x[i] == 1.0)and grado_polinomio-i == 1)):# and x[grado_polinomio]!=0):\n",
    "                display(Math(r'x'))\n",
    "            if grado_polinomio-i == 1 and (x[i] != 0 and x[i] != 1 and x[i] != -1 and x[i] != 1.0 and x[i] != -1.0):\n",
    "                display(Math(r'{}x'.format(x[i])))\n",
    "            if x[i] == 0: \n",
    "                pass\n",
    "                #continue\n",
    "            if grado_polinomio-i != 0 and grado_polinomio-i != 1 and (x[i] != 0 and x[i] != 1 and x[i] != -1 and x[i] != 1.0 and x[i] != -1.0):\n",
    "                display(Math(r'{}x^{}'.format(x[i], grado_polinomio-i)))\n",
    "            if (x[i] == 1 or x[i] == 1.0) and grado_polinomio-i != 1 and grado_polinomio-i != 0:\n",
    "                display(Math(r'x^{}'.format(grado_polinomio-i)))\n",
    "            elif (x[i] == -1 or x[i] == -1.0) and grado_polinomio-i != 1 and grado_polinomio-i != 0:\n",
    "                display(Math(r'-x^{}'.format(grado_polinomio-i)))\n",
    "            elif x[i] != 0 and grado_polinomio-i == 0:\n",
    "                display(Math(r'{}'.format(x[i])))\n",
    "            if ((x[i] == -1 or x[i] == -1.0) and grado_polinomio-i == 1):# and x[grado_polinomio]!=0):\n",
    "                display(Math(r'-x'))\n",
    "            if grado_polinomio-i == 1 and (x[i] != 0 and (x[i] != -1 or x[i] != -1.0) and (x[i] != 1 or x[i] != 1.0)):\n",
    "                display(Math(r'{}x'.format(x[i])))\n",
    "            if i != len(x)-1 and x[i+1] != 0:\n",
    "                display(Math(r'+'))\n",
    "                continue\n",
    "\n",
    "    def grado_polinomio(x):\n",
    "        if len(x) > 0:\n",
    "            grado_del_polinomio = len(x) - 1 \n",
    "        else:\n",
    "            grado_del_polinomio = 0\n",
    "        return grado_del_polinomio\n",
    "    def somma(x:list,y:list):\n",
    "#         self = x\n",
    "#         other = y\n",
    "        c = []\n",
    "        n = min(len(x), len(y))\n",
    "        m = max(len(x), len(y))\n",
    "        d = []\n",
    "        if m == len(x):\n",
    "            d = x\n",
    "        else:\n",
    "            d = y\n",
    "        for i in range(0, m-n):\n",
    "            c.append(d[i])\n",
    "        if m == len(x):\n",
    "            for j in range(m-n, m):\n",
    "                z = x[j] + y[j-m+n]\n",
    "                c.append(z)\n",
    "        else:\n",
    "            for j in range(m-n, m):\n",
    "                z = x[j-m+n] + y[j]\n",
    "                c.append(z)\n",
    "        i = 0\n",
    "        while i < len(c):\n",
    "            if c[0] == 0:\n",
    "                c.pop(0)\n",
    "            i += 1\n",
    "        return c\n",
    "    \n",
    "    \n",
    "    def differenza(x:list,y:list):\n",
    "        if len(x) >= len(y):\n",
    "            x = x\n",
    "            y = y\n",
    "            c = []\n",
    "            n = min(len(x), len(y))\n",
    "            m = max(len(x), len(y))\n",
    "            d = []\n",
    "            if m == len(x) :\n",
    "                d = x\n",
    "                for i in range(0, m-n):\n",
    "                    c.append(d[i])\n",
    "                for j in range(m-n, m):\n",
    "                    z = x[j] - y[j-m+n]\n",
    "                    c.append(z)\n",
    "            else:\n",
    "                d = y\n",
    "                for i in range(0, m-n):\n",
    "                    c.append(d[i])\n",
    "                for j in range(m-n, m):\n",
    "                    z = x[j-m+n] - y[j]\n",
    "                    c.append(z)\n",
    "        else:\n",
    "            y = t\n",
    "            x = y\n",
    "            y = t\n",
    "            c = []\n",
    "            n = min(len(x), len(y))\n",
    "            m = max(len(x), len(y))\n",
    "            d = []\n",
    "            if m == len(x) :\n",
    "                d = x\n",
    "                for i in range(0, m-n):\n",
    "                    c.append(-d[i])\n",
    "                for j in range(m-n, m):\n",
    "                    z = -(x[j] - y[j-m+n])\n",
    "                    c.append(z)\n",
    "            else:\n",
    "                d = y\n",
    "                for i in range(0, m-n):\n",
    "                    c.append(-d[i])\n",
    "                for j in range(m-n, m):\n",
    "                    z = -(x[j-m+n] - y[j])\n",
    "                    c.append(z)\n",
    "        i = 0\n",
    "        while i < len(c):\n",
    "            if c[0] == 0:\n",
    "                c.pop(0)\n",
    "            i += 1\n",
    "        return (c)\n",
    "    \n",
    "    def prodotto(x:list,y:list):\n",
    "        grado_polinomio = (len(x)-1)+(len(y)-1)\n",
    "        d = [[],[]]\n",
    "        for i in range(len(x)):\n",
    "            for j in range(len(y)):\n",
    "                d[0].append(x[i]*y[j])\n",
    "                d[1].append(i+j)    #grado del monomio\n",
    "        d[1] = d[1][::-1] \n",
    "        #print(d)\n",
    "        for i in range(grado_polinomio+1): \n",
    "            if d[1].count(grado_polinomio-i) > 1:\n",
    "                j = d[1].index(grado_polinomio -i)\n",
    "                #print(\"j vale: \", j)\n",
    "                z = j+1\n",
    "                while z < len(d[1]):\n",
    "                    if d[1][z] == d[1][j]:\n",
    "                        #print(\"z vale:\", z)\n",
    "                        d[0][j] = d[0][j]+d[0][z]\n",
    "                        d[1].pop(z)\n",
    "                        d[0].pop(z)\n",
    "                        #print(d)\n",
    "                    z += 1\n",
    "        i = 0\n",
    "        while i < len(d[0]):\n",
    "            if d[0][0] == 0:\n",
    "                d[0].pop(0)\n",
    "            i += 1\n",
    "        return d[0]\n",
    "    \n",
    "    def potenza(x:list,var:int):\n",
    "        f = x\n",
    "        for i in range(0,var-1):\n",
    "            h = polinomio.prodotto(f,x)\n",
    "            f = h\n",
    "        return f\n",
    "\n",
    "    def rapporto(x:list,y:list, c = []):\n",
    "        i, j = 0, 0\n",
    "        while i < len(x):\n",
    "            if x[0] == 0:\n",
    "                x.pop(0)\n",
    "            i += 1\n",
    "        while j < len(y):\n",
    "            if y[0] == 0:\n",
    "                y.pop(0)\n",
    "            j += 1\n",
    "        d = []\n",
    "        s = polinomio.grado_polinomio(x)\n",
    "        v = polinomio.grado_polinomio(y)\n",
    "        grado_polinomio_risultante = s-v\n",
    "        if grado_polinomio_risultante > 0:\n",
    "            d.append(x[0]/y[0])\n",
    "            i = 0\n",
    "            while i < grado_polinomio_risultante:\n",
    "                d.append(0)\n",
    "                i += 1\n",
    "            c.append(d[0])\n",
    "            g = polinomio.prodotto(d,y)\n",
    "            f = polinomio.differenza(x,g)\n",
    "            if (polinomio.grado_polinomio(f) - polinomio.grado_polinomio(y)) == 0 and (len(f)-len(c)) > 1:\n",
    "                c.append(0)\n",
    "            if (polinomio.grado_polinomio(f) - polinomio.grado_polinomio(y)) < 0 and polinomio.grado_polinomio(f) != 0:\n",
    "                j = 0\n",
    "                while j < abs(polinomio.grado_polinomio(f) - polinomio.grado_polinomio(y)):\n",
    "                    c.append(0)\n",
    "            return polinomio.rapporto(f,y,c)\n",
    "        elif grado_polinomio_risultante == 0:\n",
    "            d.append(x[0]/y[0])\n",
    "            c.append(d[0])\n",
    "            g = polinomio.prodotto(d,y)\n",
    "            f = polinomio.differenza(x,g)\n",
    "            if polinomio.grado_polinomio(f) == 0 and (f == [] or f[0] == 0):\n",
    "                return c\n",
    "            elif polinomio.grado_polinomio(f) >= 0:\n",
    "                return polinomio.rapporto(f,y,c)\n",
    "        elif grado_polinomio_risultante < 0:\n",
    "            polinomio(c)\n",
    "            display(Math(r'+'))\n",
    "            polinomio(x)\n",
    "            display(Math(r'//'))\n",
    "            polinomio(y)\n",
    "            return output\n",
    "\n",
    "        elif s == 0:\n",
    "            return c"
   ]
  },
  {
   "cell_type": "code",
   "execution_count": 2,
   "metadata": {},
   "outputs": [],
   "source": [
    "x = [1,1,2,1,1]\n",
    "y = [1,0,1]"
   ]
  },
  {
   "cell_type": "code",
   "execution_count": 3,
   "metadata": {
    "tags": []
   },
   "outputs": [
    {
     "output_type": "stream",
     "name": "stdout",
     "text": "Il polinomio inserito è di grado 4\n"
    },
    {
     "output_type": "display_data",
     "data": {
      "text/plain": "<IPython.core.display.Math object>",
      "text/latex": "$\\displaystyle x^4$"
     },
     "metadata": {}
    },
    {
     "output_type": "display_data",
     "data": {
      "text/plain": "<IPython.core.display.Math object>",
      "text/latex": "$\\displaystyle +$"
     },
     "metadata": {}
    },
    {
     "output_type": "display_data",
     "data": {
      "text/plain": "<IPython.core.display.Math object>",
      "text/latex": "$\\displaystyle x^3$"
     },
     "metadata": {}
    },
    {
     "output_type": "display_data",
     "data": {
      "text/plain": "<IPython.core.display.Math object>",
      "text/latex": "$\\displaystyle +$"
     },
     "metadata": {}
    },
    {
     "output_type": "display_data",
     "data": {
      "text/plain": "<IPython.core.display.Math object>",
      "text/latex": "$\\displaystyle 3x^2$"
     },
     "metadata": {}
    },
    {
     "output_type": "display_data",
     "data": {
      "text/plain": "<IPython.core.display.Math object>",
      "text/latex": "$\\displaystyle +$"
     },
     "metadata": {}
    },
    {
     "output_type": "display_data",
     "data": {
      "text/plain": "<IPython.core.display.Math object>",
      "text/latex": "$\\displaystyle x$"
     },
     "metadata": {}
    },
    {
     "output_type": "display_data",
     "data": {
      "text/plain": "<IPython.core.display.Math object>",
      "text/latex": "$\\displaystyle +$"
     },
     "metadata": {}
    },
    {
     "output_type": "display_data",
     "data": {
      "text/plain": "<IPython.core.display.Math object>",
      "text/latex": "$\\displaystyle 2$"
     },
     "metadata": {}
    },
    {
     "output_type": "execute_result",
     "data": {
      "text/plain": "<__main__.polinomio at 0x1c512473c88>"
     },
     "metadata": {},
     "execution_count": 3
    }
   ],
   "source": [
    "f = polinomio.somma(y,x)\n",
    "polinomio(f)"
   ]
  },
  {
   "cell_type": "code",
   "execution_count": 4,
   "metadata": {
    "tags": []
   },
   "outputs": [
    {
     "output_type": "stream",
     "name": "stdout",
     "text": "Il polinomio inserito è di grado 4\n"
    },
    {
     "output_type": "display_data",
     "data": {
      "text/plain": "<IPython.core.display.Math object>",
      "text/latex": "$\\displaystyle x^4$"
     },
     "metadata": {}
    },
    {
     "output_type": "display_data",
     "data": {
      "text/plain": "<IPython.core.display.Math object>",
      "text/latex": "$\\displaystyle +$"
     },
     "metadata": {}
    },
    {
     "output_type": "display_data",
     "data": {
      "text/plain": "<IPython.core.display.Math object>",
      "text/latex": "$\\displaystyle x^3$"
     },
     "metadata": {}
    },
    {
     "output_type": "display_data",
     "data": {
      "text/plain": "<IPython.core.display.Math object>",
      "text/latex": "$\\displaystyle +$"
     },
     "metadata": {}
    },
    {
     "output_type": "display_data",
     "data": {
      "text/plain": "<IPython.core.display.Math object>",
      "text/latex": "$\\displaystyle x^2$"
     },
     "metadata": {}
    },
    {
     "output_type": "display_data",
     "data": {
      "text/plain": "<IPython.core.display.Math object>",
      "text/latex": "$\\displaystyle +$"
     },
     "metadata": {}
    },
    {
     "output_type": "display_data",
     "data": {
      "text/plain": "<IPython.core.display.Math object>",
      "text/latex": "$\\displaystyle x$"
     },
     "metadata": {}
    },
    {
     "output_type": "execute_result",
     "data": {
      "text/plain": "<__main__.polinomio at 0x1c512473320>"
     },
     "metadata": {},
     "execution_count": 4
    }
   ],
   "source": [
    "f = polinomio.differenza(x,y)\n",
    "polinomio(f)"
   ]
  },
  {
   "cell_type": "code",
   "execution_count": 5,
   "metadata": {
    "tags": []
   },
   "outputs": [
    {
     "output_type": "stream",
     "name": "stdout",
     "text": "Il polinomio inserito è di grado 6\n"
    },
    {
     "output_type": "display_data",
     "data": {
      "text/plain": "<IPython.core.display.Math object>",
      "text/latex": "$\\displaystyle x^6$"
     },
     "metadata": {}
    },
    {
     "output_type": "display_data",
     "data": {
      "text/plain": "<IPython.core.display.Math object>",
      "text/latex": "$\\displaystyle +$"
     },
     "metadata": {}
    },
    {
     "output_type": "display_data",
     "data": {
      "text/plain": "<IPython.core.display.Math object>",
      "text/latex": "$\\displaystyle x^5$"
     },
     "metadata": {}
    },
    {
     "output_type": "display_data",
     "data": {
      "text/plain": "<IPython.core.display.Math object>",
      "text/latex": "$\\displaystyle +$"
     },
     "metadata": {}
    },
    {
     "output_type": "display_data",
     "data": {
      "text/plain": "<IPython.core.display.Math object>",
      "text/latex": "$\\displaystyle 3x^4$"
     },
     "metadata": {}
    },
    {
     "output_type": "display_data",
     "data": {
      "text/plain": "<IPython.core.display.Math object>",
      "text/latex": "$\\displaystyle +$"
     },
     "metadata": {}
    },
    {
     "output_type": "display_data",
     "data": {
      "text/plain": "<IPython.core.display.Math object>",
      "text/latex": "$\\displaystyle 2x^3$"
     },
     "metadata": {}
    },
    {
     "output_type": "display_data",
     "data": {
      "text/plain": "<IPython.core.display.Math object>",
      "text/latex": "$\\displaystyle +$"
     },
     "metadata": {}
    },
    {
     "output_type": "display_data",
     "data": {
      "text/plain": "<IPython.core.display.Math object>",
      "text/latex": "$\\displaystyle 3x^2$"
     },
     "metadata": {}
    },
    {
     "output_type": "display_data",
     "data": {
      "text/plain": "<IPython.core.display.Math object>",
      "text/latex": "$\\displaystyle +$"
     },
     "metadata": {}
    },
    {
     "output_type": "display_data",
     "data": {
      "text/plain": "<IPython.core.display.Math object>",
      "text/latex": "$\\displaystyle x$"
     },
     "metadata": {}
    },
    {
     "output_type": "display_data",
     "data": {
      "text/plain": "<IPython.core.display.Math object>",
      "text/latex": "$\\displaystyle +$"
     },
     "metadata": {}
    },
    {
     "output_type": "display_data",
     "data": {
      "text/plain": "<IPython.core.display.Math object>",
      "text/latex": "$\\displaystyle 1$"
     },
     "metadata": {}
    },
    {
     "output_type": "execute_result",
     "data": {
      "text/plain": "<__main__.polinomio at 0x1c512486fd0>"
     },
     "metadata": {},
     "execution_count": 5
    }
   ],
   "source": [
    "f = polinomio.prodotto(x,y)\n",
    "polinomio(f)"
   ]
  },
  {
   "cell_type": "code",
   "execution_count": 6,
   "metadata": {
    "tags": []
   },
   "outputs": [
    {
     "output_type": "stream",
     "name": "stdout",
     "text": "[1, 0, 1, 0, 0]\nIl polinomio inserito è di grado 4\n"
    },
    {
     "output_type": "display_data",
     "data": {
      "text/plain": "<IPython.core.display.Math object>",
      "text/latex": "$\\displaystyle x^4$"
     },
     "metadata": {}
    },
    {
     "output_type": "display_data",
     "data": {
      "text/plain": "<IPython.core.display.Math object>",
      "text/latex": "$\\displaystyle +$"
     },
     "metadata": {}
    },
    {
     "output_type": "display_data",
     "data": {
      "text/plain": "<IPython.core.display.Math object>",
      "text/latex": "$\\displaystyle x^2$"
     },
     "metadata": {}
    },
    {
     "output_type": "execute_result",
     "data": {
      "text/plain": "<__main__.polinomio at 0x1c512486f98>"
     },
     "metadata": {},
     "execution_count": 6
    }
   ],
   "source": [
    "x = [1,0,0]\n",
    "y = [1,0,1]\n",
    "f = polinomio.prodotto(x,y)\n",
    "print(f)\n",
    "polinomio(f)"
   ]
  },
  {
   "cell_type": "code",
   "execution_count": 7,
   "metadata": {
    "tags": []
   },
   "outputs": [
    {
     "output_type": "stream",
     "name": "stdout",
     "text": "[1, 0, 3, 0, 3, 0, 1]\nIl polinomio inserito è di grado 6\n"
    },
    {
     "output_type": "display_data",
     "data": {
      "text/plain": "<IPython.core.display.Math object>",
      "text/latex": "$\\displaystyle x^6$"
     },
     "metadata": {}
    },
    {
     "output_type": "display_data",
     "data": {
      "text/plain": "<IPython.core.display.Math object>",
      "text/latex": "$\\displaystyle +$"
     },
     "metadata": {}
    },
    {
     "output_type": "display_data",
     "data": {
      "text/plain": "<IPython.core.display.Math object>",
      "text/latex": "$\\displaystyle 3x^4$"
     },
     "metadata": {}
    },
    {
     "output_type": "display_data",
     "data": {
      "text/plain": "<IPython.core.display.Math object>",
      "text/latex": "$\\displaystyle +$"
     },
     "metadata": {}
    },
    {
     "output_type": "display_data",
     "data": {
      "text/plain": "<IPython.core.display.Math object>",
      "text/latex": "$\\displaystyle 3x^2$"
     },
     "metadata": {}
    },
    {
     "output_type": "display_data",
     "data": {
      "text/plain": "<IPython.core.display.Math object>",
      "text/latex": "$\\displaystyle +$"
     },
     "metadata": {}
    },
    {
     "output_type": "display_data",
     "data": {
      "text/plain": "<IPython.core.display.Math object>",
      "text/latex": "$\\displaystyle 1$"
     },
     "metadata": {}
    },
    {
     "output_type": "execute_result",
     "data": {
      "text/plain": "<__main__.polinomio at 0x1c512486d30>"
     },
     "metadata": {},
     "execution_count": 7
    }
   ],
   "source": [
    "x = [1,0,1]\n",
    "f = polinomio.potenza(x,3)\n",
    "print(f)\n",
    "polinomio(f)"
   ]
  },
  {
   "cell_type": "code",
   "execution_count": 8,
   "metadata": {
    "scrolled": false,
    "tags": []
   },
   "outputs": [
    {
     "output_type": "stream",
     "name": "stdout",
     "text": "[1.0, 1.0]\nIl polinomio inserito è di grado 1\n"
    },
    {
     "output_type": "display_data",
     "data": {
      "text/plain": "<IPython.core.display.Math object>",
      "text/latex": "$\\displaystyle x$"
     },
     "metadata": {}
    },
    {
     "output_type": "display_data",
     "data": {
      "text/plain": "<IPython.core.display.Math object>",
      "text/latex": "$\\displaystyle +$"
     },
     "metadata": {}
    },
    {
     "output_type": "display_data",
     "data": {
      "text/plain": "<IPython.core.display.Math object>",
      "text/latex": "$\\displaystyle 1.0$"
     },
     "metadata": {}
    },
    {
     "output_type": "execute_result",
     "data": {
      "text/plain": "<__main__.polinomio at 0x1c512486e10>"
     },
     "metadata": {},
     "execution_count": 8
    }
   ],
   "source": [
    "x = [1,2,1]\n",
    "y = [1,1]\n",
    "# x = [1,0,2,0,1]\n",
    "# y = [1,0,1]\n",
    "f = polinomio.rapporto(x,y)\n",
    "print(f)\n",
    "polinomio(f)"
   ]
  }
 ],
 "metadata": {
  "kernelspec": {
   "display_name": "Python 3",
   "language": "python",
   "name": "python3"
  },
  "language_info": {
   "codemirror_mode": {
    "name": "ipython",
    "version": 3
   },
   "file_extension": ".py",
   "mimetype": "text/x-python",
   "name": "python",
   "nbconvert_exporter": "python",
   "pygments_lexer": "ipython3",
   "version": "3.6.8-final"
  }
 },
 "nbformat": 4,
 "nbformat_minor": 2
}
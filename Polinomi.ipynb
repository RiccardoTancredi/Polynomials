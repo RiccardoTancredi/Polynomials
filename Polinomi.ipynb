{
 "cells": [
  {
   "cell_type": "code",
   "execution_count": 1,
   "metadata": {},
   "outputs": [],
   "source": [
    "from IPython.display import display, Math\n",
    "class polinomio:\n",
    "    def __init__(self, x:list):\n",
    "        self.x = x\n",
    "        #scrittura del polinomio:\n",
    "        i, j = 0, 0\n",
    "        while i < len(x):\n",
    "            if x[0] == 0:\n",
    "                x.pop(0)\n",
    "            i += 1\n",
    "        while j < len(y):\n",
    "            if y[0] == 0:\n",
    "                y.pop(0)\n",
    "            j += 1\n",
    "        if len(x) > 0:\n",
    "            grado_polinomio = len(x) - 1 \n",
    "        else:\n",
    "            grado_polinomio = 0\n",
    "        print(\"Il polinomio inserito è di grado\", grado_polinomio)\n",
    "        for i in range(0, len(x)):\n",
    "            if (((x[i] == 1 or x[i] == 1.0)and grado_polinomio-i == 1)):# and x[grado_polinomio]!=0):\n",
    "                display(Math(r'x'))\n",
    "                #continue\n",
    "#             elif ((x[i] == 1 and grado_polinomio-i == 1) and x[grado_polinomio]==0):\n",
    "#                 display(Math(r'x'))\n",
    "#                 #continue\n",
    "            if grado_polinomio-i == 1 and (x[i] != 0 and x[i] != 1 and x[i] != -1 and x[i] != 1.0 and x[i] != -1.0):\n",
    "                display(Math(r'{}x'.format(x[i])))\n",
    "            if x[i] == 0: \n",
    "                pass\n",
    "                #continue\n",
    "            if grado_polinomio-i != 0 and grado_polinomio-i != 1 and (x[i] != 0 and x[i] != 1 and x[i] != -1 and x[i] != 1.0 and x[i] != -1.0):\n",
    "                display(Math(r'{}x^{}'.format(x[i], grado_polinomio-i)))\n",
    "                #continue\n",
    "                #print(x[i], \"$x^\", grado_polinomio-i, \"$ + \")\n",
    "            if (x[i] == 1 or x[i] == 1.0) and grado_polinomio-i != 1 and grado_polinomio-i != 0:\n",
    "                display(Math(r'x^{}'.format(grado_polinomio-i)))\n",
    "                #continue\n",
    "            elif (x[i] == -1 or x[i] == -1.0) and grado_polinomio-i != 1 and grado_polinomio-i != 0:\n",
    "                display(Math(r'-x^{}'.format(grado_polinomio-i)))\n",
    "                #continue\n",
    "            elif x[i] != 0 and grado_polinomio-i == 0:\n",
    "                display(Math(r'{}'.format(x[i])))\n",
    "#             if i != len(x)-1 and x[i+1] > 0:\n",
    "#                 display(Math(r'+'))\n",
    "#                 continue\n",
    "            if ((x[i] == -1 or x[i] == -1.0) and grado_polinomio-i == 1):# and x[grado_polinomio]!=0):\n",
    "                display(Math(r'-x'))\n",
    "                #continue\n",
    "#             elif ((x[i] == 1 and grado_polinomio-i == 1) and x[grado_polinomio]==0):\n",
    "#                 display(Math(r'x'))\n",
    "#                 #continue\n",
    "            if grado_polinomio-i == 1 and (x[i] != 0 and (x[i] != -1 or x[i] != -1.0) and (x[i] != 1 or x[i] != 1.0)):\n",
    "                display(Math(r'{}x'.format(x[i])))\n",
    "            if i != len(x)-1 and x[i+1] != 0:\n",
    "                display(Math(r'+'))\n",
    "                continue\n",
    "\n",
    "    def grado_polinomio(x):\n",
    "        if len(x) > 0:\n",
    "            grado_del_polinomio = len(x) - 1 \n",
    "        else:\n",
    "            grado_del_polinomio = 0\n",
    "        return grado_del_polinomio\n",
    "    def somma(x:list,y:list):\n",
    "#         self = x\n",
    "#         other = y\n",
    "        c = []\n",
    "        n = min(len(x), len(y))\n",
    "        m = max(len(x), len(y))\n",
    "        d = []\n",
    "        if m == len(x):\n",
    "            d = x\n",
    "        else:\n",
    "            d = y\n",
    "        for i in range(0, m-n):\n",
    "            c.append(d[i])\n",
    "        if m == len(x):\n",
    "            for j in range(m-n, m):\n",
    "                z = x[j] + y[j-m+n]\n",
    "                c.append(z)\n",
    "        else:\n",
    "            for j in range(m-n, m):\n",
    "                z = x[j-m+n] + y[j]\n",
    "                c.append(z)\n",
    "        return (c)\n",
    "    \n",
    "    def differenza(x:list,y:list):\n",
    "        if len(x) >= len(y):\n",
    "            x = x\n",
    "            y = y\n",
    "            c = []\n",
    "            n = min(len(x), len(y))\n",
    "            m = max(len(x), len(y))\n",
    "            d = []\n",
    "            if m == len(x) :\n",
    "                d = x\n",
    "                for i in range(0, m-n):\n",
    "                    c.append(d[i])\n",
    "                for j in range(m-n, m):\n",
    "                    z = x[j] - y[j-m+n]\n",
    "                    c.append(z)\n",
    "            else:\n",
    "                d = y\n",
    "                for i in range(0, m-n):\n",
    "                    c.append(d[i])\n",
    "                for j in range(m-n, m):\n",
    "                    z = x[j-m+n] - y[j]\n",
    "                    c.append(z)\n",
    "        else:\n",
    "            y = t\n",
    "            x = y\n",
    "            y = t\n",
    "            c = []\n",
    "            n = min(len(x), len(y))\n",
    "            m = max(len(x), len(y))\n",
    "            d = []\n",
    "            if m == len(x) :\n",
    "                d = x\n",
    "                for i in range(0, m-n):\n",
    "                    c.append(-d[i])\n",
    "                for j in range(m-n, m):\n",
    "                    z = -(x[j] - y[j-m+n])\n",
    "                    c.append(z)\n",
    "            else:\n",
    "                d = y\n",
    "                for i in range(0, m-n):\n",
    "                    c.append(-d[i])\n",
    "                for j in range(m-n, m):\n",
    "                    z = -(x[j-m+n] - y[j])\n",
    "                    c.append(z)\n",
    "        return (c)\n",
    "    \n",
    "    def prodotto(x:list,y:list):\n",
    "#         self = x\n",
    "#         other = y\n",
    "        grado_polinomio = (len(x)-1)+(len(y)-1)\n",
    "        d = [[],[]]\n",
    "        for i in range(len(x)):\n",
    "            for j in range(len(y)):\n",
    "                d[0].append(x[i]*y[j])\n",
    "                d[1].append(i+j)#grado del monomio\n",
    "        d[1] = d[1][::-1] \n",
    "        #print(d)\n",
    "        for i in range(grado_polinomio+1): \n",
    "            if d[1].count(grado_polinomio-i) > 1:\n",
    "                j = d[1].index(grado_polinomio -i)\n",
    "                #print(\"j vale: \", j)\n",
    "                z = j+1\n",
    "                while z < len(d[1]):\n",
    "                    if d[1][z] == d[1][j]:\n",
    "                        #print(\"z vale:\", z)\n",
    "                        d[0][j] = d[0][j]+d[0][z]\n",
    "                        d[1].pop(z)\n",
    "                        d[0].pop(z)\n",
    "                        #print(d)\n",
    "                    z += 1\n",
    "        return (d[0])\n",
    "    \n",
    "    def potenza(x:list,var:int):\n",
    "        f = x\n",
    "        for i in range(0,var-1):\n",
    "            h = polinomio.prodotto(f,x)\n",
    "            f = h\n",
    "        return f\n",
    "    \n",
    "#     def scrittura_rapporto(c:list, x:list, y:list):\n",
    "#             polinomio(c)\n",
    "#             display(Math(r'+'))\n",
    "#             polinomio(x)\n",
    "#             display(Math(r'/'))\n",
    "#             polinomio(y)\n",
    "            \n",
    "    def rapporto(x:list,y:list, c = []):\n",
    "#         self = x\n",
    "#         other = y\n",
    "        i, j = 0, 0\n",
    "        while i < len(x):\n",
    "            if x[0] == 0:\n",
    "                x.pop(0)\n",
    "            i += 1\n",
    "        while j < len(y):\n",
    "            if y[0] == 0:\n",
    "                y.pop(0)\n",
    "            j += 1\n",
    "        d = [[],[]]\n",
    "        s = polinomio.grado_polinomio(x)\n",
    "        v = polinomio.grado_polinomio(y)\n",
    "        grado_polinomio_risultante = s-v\n",
    "        #while (s-v) >= 0:\n",
    "        #for b in  range(0, grado_polinomio_risultante):\n",
    "        if s < v:\n",
    "            polinomio(c)\n",
    "            display(Math(r'+'))\n",
    "            polinomio(x)\n",
    "            display(Math(r'//'))\n",
    "            polinomio(y)\n",
    "            \n",
    "        elif s == 0:\n",
    "            return(c)\n",
    "        \n",
    "        else:\n",
    "            d[1].append(grado_polinomio_risultante)\n",
    "            d[0].append(x[0]/y[0])\n",
    "            for i in range(0,grado_polinomio_risultante):\n",
    "                d[0].append(0)\n",
    "            c.append(d[0][0])   \n",
    "            g = polinomio.prodotto(d[0], y)\n",
    "            if len(g) != len(x):\n",
    "                for e in range(0, len(x)-len(g)):\n",
    "                    g.append(0)                \n",
    "            print(g)\n",
    "            f = polinomio.differenza(x,g)\n",
    "            i = 0\n",
    "            while i < len(f):\n",
    "                if f[0] == 0:\n",
    "                    f.pop(0)\n",
    "                i += 1\n",
    "            if (polinomio.grado_polinomio(f) - polinomio.grado_polinomio(y)) == 0 and (len(f)-len(c))> 1:\n",
    "                c.append(0)\n",
    "            return polinomio.rapporto(f,y,c)\n",
    "        "
   ]
  },
  {
   "cell_type": "code",
   "execution_count": 2,
   "metadata": {},
   "outputs": [],
   "source": [
    "x = [1,1,2,1,1]\n",
    "y = [1,0,1]"
   ]
  },
  {
   "cell_type": "code",
   "execution_count": 3,
   "metadata": {
    "tags": []
   },
   "outputs": [
    {
     "output_type": "stream",
     "name": "stdout",
     "text": "Il polinomio inserito è di grado 4\n"
    },
    {
     "output_type": "display_data",
     "data": {
      "text/plain": "<IPython.core.display.Math object>",
      "text/latex": "$\\displaystyle x^4$"
     },
     "metadata": {}
    },
    {
     "output_type": "display_data",
     "data": {
      "text/plain": "<IPython.core.display.Math object>",
      "text/latex": "$\\displaystyle +$"
     },
     "metadata": {}
    },
    {
     "output_type": "display_data",
     "data": {
      "text/plain": "<IPython.core.display.Math object>",
      "text/latex": "$\\displaystyle x^3$"
     },
     "metadata": {}
    },
    {
     "output_type": "display_data",
     "data": {
      "text/plain": "<IPython.core.display.Math object>",
      "text/latex": "$\\displaystyle +$"
     },
     "metadata": {}
    },
    {
     "output_type": "display_data",
     "data": {
      "text/plain": "<IPython.core.display.Math object>",
      "text/latex": "$\\displaystyle 3x^2$"
     },
     "metadata": {}
    },
    {
     "output_type": "display_data",
     "data": {
      "text/plain": "<IPython.core.display.Math object>",
      "text/latex": "$\\displaystyle +$"
     },
     "metadata": {}
    },
    {
     "output_type": "display_data",
     "data": {
      "text/plain": "<IPython.core.display.Math object>",
      "text/latex": "$\\displaystyle x$"
     },
     "metadata": {}
    },
    {
     "output_type": "display_data",
     "data": {
      "text/plain": "<IPython.core.display.Math object>",
      "text/latex": "$\\displaystyle +$"
     },
     "metadata": {}
    },
    {
     "output_type": "display_data",
     "data": {
      "text/plain": "<IPython.core.display.Math object>",
      "text/latex": "$\\displaystyle 2$"
     },
     "metadata": {}
    },
    {
     "output_type": "execute_result",
     "data": {
      "text/plain": "<__main__.polinomio at 0x1ee18d9ab08>"
     },
     "metadata": {},
     "execution_count": 3
    }
   ],
   "source": [
    "f = polinomio.somma(y,x)\n",
    "polinomio(f)"
   ]
  },
  {
   "cell_type": "code",
   "execution_count": 4,
   "metadata": {
    "tags": []
   },
   "outputs": [
    {
     "output_type": "stream",
     "name": "stdout",
     "text": "Il polinomio inserito è di grado 4\n"
    },
    {
     "output_type": "display_data",
     "data": {
      "text/plain": "<IPython.core.display.Math object>",
      "text/latex": "$\\displaystyle x^4$"
     },
     "metadata": {}
    },
    {
     "output_type": "display_data",
     "data": {
      "text/plain": "<IPython.core.display.Math object>",
      "text/latex": "$\\displaystyle +$"
     },
     "metadata": {}
    },
    {
     "output_type": "display_data",
     "data": {
      "text/plain": "<IPython.core.display.Math object>",
      "text/latex": "$\\displaystyle x^3$"
     },
     "metadata": {}
    },
    {
     "output_type": "display_data",
     "data": {
      "text/plain": "<IPython.core.display.Math object>",
      "text/latex": "$\\displaystyle +$"
     },
     "metadata": {}
    },
    {
     "output_type": "display_data",
     "data": {
      "text/plain": "<IPython.core.display.Math object>",
      "text/latex": "$\\displaystyle x^2$"
     },
     "metadata": {}
    },
    {
     "output_type": "display_data",
     "data": {
      "text/plain": "<IPython.core.display.Math object>",
      "text/latex": "$\\displaystyle +$"
     },
     "metadata": {}
    },
    {
     "output_type": "display_data",
     "data": {
      "text/plain": "<IPython.core.display.Math object>",
      "text/latex": "$\\displaystyle x$"
     },
     "metadata": {}
    },
    {
     "output_type": "execute_result",
     "data": {
      "text/plain": "<__main__.polinomio at 0x1ee18da68c8>"
     },
     "metadata": {},
     "execution_count": 4
    }
   ],
   "source": [
    "f = polinomio.differenza(x,y)\n",
    "polinomio(f)"
   ]
  },
  {
   "cell_type": "code",
   "execution_count": 5,
   "metadata": {
    "tags": []
   },
   "outputs": [
    {
     "output_type": "stream",
     "name": "stdout",
     "text": "Il polinomio inserito è di grado 6\n"
    },
    {
     "output_type": "display_data",
     "data": {
      "text/plain": "<IPython.core.display.Math object>",
      "text/latex": "$\\displaystyle x^6$"
     },
     "metadata": {}
    },
    {
     "output_type": "display_data",
     "data": {
      "text/plain": "<IPython.core.display.Math object>",
      "text/latex": "$\\displaystyle +$"
     },
     "metadata": {}
    },
    {
     "output_type": "display_data",
     "data": {
      "text/plain": "<IPython.core.display.Math object>",
      "text/latex": "$\\displaystyle x^5$"
     },
     "metadata": {}
    },
    {
     "output_type": "display_data",
     "data": {
      "text/plain": "<IPython.core.display.Math object>",
      "text/latex": "$\\displaystyle +$"
     },
     "metadata": {}
    },
    {
     "output_type": "display_data",
     "data": {
      "text/plain": "<IPython.core.display.Math object>",
      "text/latex": "$\\displaystyle 3x^4$"
     },
     "metadata": {}
    },
    {
     "output_type": "display_data",
     "data": {
      "text/plain": "<IPython.core.display.Math object>",
      "text/latex": "$\\displaystyle +$"
     },
     "metadata": {}
    },
    {
     "output_type": "display_data",
     "data": {
      "text/plain": "<IPython.core.display.Math object>",
      "text/latex": "$\\displaystyle 2x^3$"
     },
     "metadata": {}
    },
    {
     "output_type": "display_data",
     "data": {
      "text/plain": "<IPython.core.display.Math object>",
      "text/latex": "$\\displaystyle +$"
     },
     "metadata": {}
    },
    {
     "output_type": "display_data",
     "data": {
      "text/plain": "<IPython.core.display.Math object>",
      "text/latex": "$\\displaystyle 3x^2$"
     },
     "metadata": {}
    },
    {
     "output_type": "display_data",
     "data": {
      "text/plain": "<IPython.core.display.Math object>",
      "text/latex": "$\\displaystyle +$"
     },
     "metadata": {}
    },
    {
     "output_type": "display_data",
     "data": {
      "text/plain": "<IPython.core.display.Math object>",
      "text/latex": "$\\displaystyle x$"
     },
     "metadata": {}
    },
    {
     "output_type": "display_data",
     "data": {
      "text/plain": "<IPython.core.display.Math object>",
      "text/latex": "$\\displaystyle +$"
     },
     "metadata": {}
    },
    {
     "output_type": "display_data",
     "data": {
      "text/plain": "<IPython.core.display.Math object>",
      "text/latex": "$\\displaystyle 1$"
     },
     "metadata": {}
    },
    {
     "output_type": "execute_result",
     "data": {
      "text/plain": "<__main__.polinomio at 0x1ee18daf788>"
     },
     "metadata": {},
     "execution_count": 5
    }
   ],
   "source": [
    "f = polinomio.prodotto(x,y)\n",
    "polinomio(f)"
   ]
  },
  {
   "cell_type": "code",
   "execution_count": 6,
   "metadata": {
    "tags": []
   },
   "outputs": [
    {
     "output_type": "stream",
     "name": "stdout",
     "text": "[1, 0, 1, 0, 0]\nIl polinomio inserito è di grado 4\n"
    },
    {
     "output_type": "display_data",
     "data": {
      "text/plain": "<IPython.core.display.Math object>",
      "text/latex": "$\\displaystyle x^4$"
     },
     "metadata": {}
    },
    {
     "output_type": "display_data",
     "data": {
      "text/plain": "<IPython.core.display.Math object>",
      "text/latex": "$\\displaystyle +$"
     },
     "metadata": {}
    },
    {
     "output_type": "display_data",
     "data": {
      "text/plain": "<IPython.core.display.Math object>",
      "text/latex": "$\\displaystyle x^2$"
     },
     "metadata": {}
    },
    {
     "output_type": "execute_result",
     "data": {
      "text/plain": "<__main__.polinomio at 0x1ee18daf108>"
     },
     "metadata": {},
     "execution_count": 6
    }
   ],
   "source": [
    "x = [1,0,0]\n",
    "y = [1,0,1]\n",
    "f = polinomio.prodotto(x,y)\n",
    "print(f)\n",
    "polinomio(f)"
   ]
  },
  {
   "cell_type": "code",
   "execution_count": 7,
   "metadata": {
    "tags": []
   },
   "outputs": [
    {
     "output_type": "stream",
     "name": "stdout",
     "text": "[1, 0, 3, 0, 3, 0, 1]\nIl polinomio inserito è di grado 6\n"
    },
    {
     "output_type": "display_data",
     "data": {
      "text/plain": "<IPython.core.display.Math object>",
      "text/latex": "$\\displaystyle x^6$"
     },
     "metadata": {}
    },
    {
     "output_type": "display_data",
     "data": {
      "text/plain": "<IPython.core.display.Math object>",
      "text/latex": "$\\displaystyle +$"
     },
     "metadata": {}
    },
    {
     "output_type": "display_data",
     "data": {
      "text/plain": "<IPython.core.display.Math object>",
      "text/latex": "$\\displaystyle 3x^4$"
     },
     "metadata": {}
    },
    {
     "output_type": "display_data",
     "data": {
      "text/plain": "<IPython.core.display.Math object>",
      "text/latex": "$\\displaystyle +$"
     },
     "metadata": {}
    },
    {
     "output_type": "display_data",
     "data": {
      "text/plain": "<IPython.core.display.Math object>",
      "text/latex": "$\\displaystyle 3x^2$"
     },
     "metadata": {}
    },
    {
     "output_type": "display_data",
     "data": {
      "text/plain": "<IPython.core.display.Math object>",
      "text/latex": "$\\displaystyle +$"
     },
     "metadata": {}
    },
    {
     "output_type": "display_data",
     "data": {
      "text/plain": "<IPython.core.display.Math object>",
      "text/latex": "$\\displaystyle 1$"
     },
     "metadata": {}
    },
    {
     "output_type": "execute_result",
     "data": {
      "text/plain": "<__main__.polinomio at 0x1ee18da9588>"
     },
     "metadata": {},
     "execution_count": 7
    }
   ],
   "source": [
    "x = [1,0,1]\n",
    "f = polinomio.potenza(x,3)\n",
    "print(f)\n",
    "polinomio(f)"
   ]
  },
  {
   "cell_type": "code",
   "execution_count": 8,
   "metadata": {
    "scrolled": false,
    "tags": []
   },
   "outputs": [
    {
     "output_type": "stream",
     "name": "stdout",
     "text": "[1.0, 0.0, 1.0, 0, 0]\n[1.0, 0.0, 1.0, 0]\n[1.0, 0.0, 1.0]\nIl polinomio inserito è di grado 2\n"
    },
    {
     "output_type": "display_data",
     "data": {
      "text/plain": "<IPython.core.display.Math object>",
      "text/latex": "$\\displaystyle x^2$"
     },
     "metadata": {}
    },
    {
     "output_type": "display_data",
     "data": {
      "text/plain": "<IPython.core.display.Math object>",
      "text/latex": "$\\displaystyle +$"
     },
     "metadata": {}
    },
    {
     "output_type": "display_data",
     "data": {
      "text/plain": "<IPython.core.display.Math object>",
      "text/latex": "$\\displaystyle x$"
     },
     "metadata": {}
    },
    {
     "output_type": "display_data",
     "data": {
      "text/plain": "<IPython.core.display.Math object>",
      "text/latex": "$\\displaystyle +$"
     },
     "metadata": {}
    },
    {
     "output_type": "display_data",
     "data": {
      "text/plain": "<IPython.core.display.Math object>",
      "text/latex": "$\\displaystyle 1.0$"
     },
     "metadata": {}
    },
    {
     "output_type": "display_data",
     "data": {
      "text/plain": "<IPython.core.display.Math object>",
      "text/latex": "$\\displaystyle +$"
     },
     "metadata": {}
    },
    {
     "output_type": "stream",
     "name": "stdout",
     "text": "Il polinomio inserito è di grado 0\n"
    },
    {
     "output_type": "display_data",
     "data": {
      "text/plain": "<IPython.core.display.Math object>",
      "text/latex": "$\\displaystyle //$"
     },
     "metadata": {}
    },
    {
     "output_type": "stream",
     "name": "stdout",
     "text": "Il polinomio inserito è di grado 2\n"
    },
    {
     "output_type": "display_data",
     "data": {
      "text/plain": "<IPython.core.display.Math object>",
      "text/latex": "$\\displaystyle x^2$"
     },
     "metadata": {}
    },
    {
     "output_type": "display_data",
     "data": {
      "text/plain": "<IPython.core.display.Math object>",
      "text/latex": "$\\displaystyle +$"
     },
     "metadata": {}
    },
    {
     "output_type": "display_data",
     "data": {
      "text/plain": "<IPython.core.display.Math object>",
      "text/latex": "$\\displaystyle 1$"
     },
     "metadata": {}
    },
    {
     "output_type": "stream",
     "name": "stdout",
     "text": "None\n"
    },
    {
     "output_type": "error",
     "ename": "TypeError",
     "evalue": "object of type 'NoneType' has no len()",
     "traceback": [
      "\u001b[1;31m---------------------------------------------------------------------------\u001b[0m",
      "\u001b[1;31mTypeError\u001b[0m                                 Traceback (most recent call last)",
      "\u001b[1;32m<ipython-input-8-0350fef14ecf>\u001b[0m in \u001b[0;36m<module>\u001b[1;34m\u001b[0m\n\u001b[0;32m      5\u001b[0m \u001b[0mf\u001b[0m \u001b[1;33m=\u001b[0m \u001b[0mpolinomio\u001b[0m\u001b[1;33m.\u001b[0m\u001b[0mrapporto\u001b[0m\u001b[1;33m(\u001b[0m\u001b[0mx\u001b[0m\u001b[1;33m,\u001b[0m\u001b[0my\u001b[0m\u001b[1;33m)\u001b[0m\u001b[1;33m\u001b[0m\u001b[1;33m\u001b[0m\u001b[0m\n\u001b[0;32m      6\u001b[0m \u001b[0mprint\u001b[0m\u001b[1;33m(\u001b[0m\u001b[0mf\u001b[0m\u001b[1;33m)\u001b[0m\u001b[1;33m\u001b[0m\u001b[1;33m\u001b[0m\u001b[0m\n\u001b[1;32m----> 7\u001b[1;33m \u001b[0mpolinomio\u001b[0m\u001b[1;33m(\u001b[0m\u001b[0mf\u001b[0m\u001b[1;33m)\u001b[0m\u001b[1;33m\u001b[0m\u001b[1;33m\u001b[0m\u001b[0m\n\u001b[0m",
      "\u001b[1;32m<ipython-input-1-a11a3709b39e>\u001b[0m in \u001b[0;36m__init__\u001b[1;34m(self, x)\u001b[0m\n\u001b[0;32m      5\u001b[0m         \u001b[1;31m#scrittura del polinomio:\u001b[0m\u001b[1;33m\u001b[0m\u001b[1;33m\u001b[0m\u001b[1;33m\u001b[0m\u001b[0m\n\u001b[0;32m      6\u001b[0m         \u001b[0mi\u001b[0m\u001b[1;33m,\u001b[0m \u001b[0mj\u001b[0m \u001b[1;33m=\u001b[0m \u001b[1;36m0\u001b[0m\u001b[1;33m,\u001b[0m \u001b[1;36m0\u001b[0m\u001b[1;33m\u001b[0m\u001b[1;33m\u001b[0m\u001b[0m\n\u001b[1;32m----> 7\u001b[1;33m         \u001b[1;32mwhile\u001b[0m \u001b[0mi\u001b[0m \u001b[1;33m<\u001b[0m \u001b[0mlen\u001b[0m\u001b[1;33m(\u001b[0m\u001b[0mx\u001b[0m\u001b[1;33m)\u001b[0m\u001b[1;33m:\u001b[0m\u001b[1;33m\u001b[0m\u001b[1;33m\u001b[0m\u001b[0m\n\u001b[0m\u001b[0;32m      8\u001b[0m             \u001b[1;32mif\u001b[0m \u001b[0mx\u001b[0m\u001b[1;33m[\u001b[0m\u001b[1;36m0\u001b[0m\u001b[1;33m]\u001b[0m \u001b[1;33m==\u001b[0m \u001b[1;36m0\u001b[0m\u001b[1;33m:\u001b[0m\u001b[1;33m\u001b[0m\u001b[1;33m\u001b[0m\u001b[0m\n\u001b[0;32m      9\u001b[0m                 \u001b[0mx\u001b[0m\u001b[1;33m.\u001b[0m\u001b[0mpop\u001b[0m\u001b[1;33m(\u001b[0m\u001b[1;36m0\u001b[0m\u001b[1;33m)\u001b[0m\u001b[1;33m\u001b[0m\u001b[1;33m\u001b[0m\u001b[0m\n",
      "\u001b[1;31mTypeError\u001b[0m: object of type 'NoneType' has no len()"
     ]
    }
   ],
   "source": [
    "x = [1,1,2,1,1]\n",
    "y = [1,0,1]\n",
    "# x = [1,0,2,0,1]\n",
    "# y = [1,0,1]\n",
    "f = polinomio.rapporto(x,y)\n",
    "print(f)\n",
    "polinomio(f)"
   ]
  },
  {
   "cell_type": "code",
   "execution_count": 9,
   "metadata": {
    "tags": []
   },
   "outputs": [
    {
     "output_type": "stream",
     "name": "stdout",
     "text": "Il polinomio inserito è di grado 2\n"
    },
    {
     "output_type": "display_data",
     "data": {
      "text/plain": "<IPython.core.display.Math object>",
      "text/latex": "$\\displaystyle x^2$"
     },
     "metadata": {}
    },
    {
     "output_type": "display_data",
     "data": {
      "text/plain": "<IPython.core.display.Math object>",
      "text/latex": "$\\displaystyle +$"
     },
     "metadata": {}
    },
    {
     "output_type": "display_data",
     "data": {
      "text/plain": "<IPython.core.display.Math object>",
      "text/latex": "$\\displaystyle x$"
     },
     "metadata": {}
    },
    {
     "output_type": "display_data",
     "data": {
      "text/plain": "<IPython.core.display.Math object>",
      "text/latex": "$\\displaystyle +$"
     },
     "metadata": {}
    },
    {
     "output_type": "display_data",
     "data": {
      "text/plain": "<IPython.core.display.Math object>",
      "text/latex": "$\\displaystyle 1.0$"
     },
     "metadata": {}
    },
    {
     "output_type": "display_data",
     "data": {
      "text/plain": "<IPython.core.display.Math object>",
      "text/latex": "$\\displaystyle +$"
     },
     "metadata": {}
    },
    {
     "output_type": "stream",
     "name": "stdout",
     "text": "Il polinomio inserito è di grado 0\n"
    },
    {
     "output_type": "display_data",
     "data": {
      "text/plain": "<IPython.core.display.Math object>",
      "text/latex": "$\\displaystyle 1$"
     },
     "metadata": {}
    },
    {
     "output_type": "display_data",
     "data": {
      "text/plain": "<IPython.core.display.Math object>",
      "text/latex": "$\\displaystyle //$"
     },
     "metadata": {}
    },
    {
     "output_type": "stream",
     "name": "stdout",
     "text": "Il polinomio inserito è di grado 2\n"
    },
    {
     "output_type": "display_data",
     "data": {
      "text/plain": "<IPython.core.display.Math object>",
      "text/latex": "$\\displaystyle x^2$"
     },
     "metadata": {}
    },
    {
     "output_type": "display_data",
     "data": {
      "text/plain": "<IPython.core.display.Math object>",
      "text/latex": "$\\displaystyle +$"
     },
     "metadata": {}
    },
    {
     "output_type": "display_data",
     "data": {
      "text/plain": "<IPython.core.display.Math object>",
      "text/latex": "$\\displaystyle 1$"
     },
     "metadata": {}
    }
   ],
   "source": [
    "x = [1]\n",
    "y = [1,0,1]\n",
    "# x = [1,0,2,0,1]\n",
    "# y = [1,0,1]\n",
    "f = polinomio.rapporto(x,y)"
   ]
  },
  {
   "cell_type": "code",
   "execution_count": null,
   "metadata": {},
   "outputs": [],
   "source": []
  },
  {
   "cell_type": "markdown",
   "metadata": {},
   "source": [
    "# Proviamo a far scrivere decentemente questo polinomio"
   ]
  },
  {
   "cell_type": "code",
   "execution_count": 10,
   "metadata": {},
   "outputs": [],
   "source": [
    "import sympy as sp\n",
    "sp.init_printing()"
   ]
  },
  {
   "cell_type": "code",
   "execution_count": 11,
   "metadata": {},
   "outputs": [
    {
     "output_type": "execute_result",
     "data": {
      "text/plain": "1*x**2 + 5*x**1 + -6"
     },
     "metadata": {},
     "execution_count": 11
    }
   ],
   "source": [
    "x = sp.Symbol('x')\n",
    "#g = x**2 + 5*x -6\n",
    "f = [1,5,-6]\n",
    "grado = []\n",
    "for i in range(len(f)-1,0-1,-1):\n",
    "    grado.append(i)\n",
    "#print(grado)\n",
    "g = '{}*x**grado[0] + {}*x**grado[1] + {}'.format(f[0],f[1],f[2])\n",
    "g = sp.Function('{}*x**{} + {}*x**{} + {}'.format(f[0],grado[0],f[1],grado[1],f[2]))\n",
    "g"
   ]
  },
  {
   "cell_type": "code",
   "execution_count": 15,
   "metadata": {},
   "outputs": [],
   "source": [
    "#display(Math(r'{}x^{}'.format(x[i], grado_polinomio-i)))"
   ]
  },
  {
   "cell_type": "code",
   "execution_count": 14,
   "metadata": {},
   "outputs": [],
   "source": [
    "#g = {}*x**grado[0] + {}*x**grado[1] + {}\n",
    "#g = f[0]*x**grado[0] + f[1]*x**grado[1] +f[2]"
   ]
  }
 ],
 "metadata": {
  "kernelspec": {
   "display_name": "Python 3",
   "language": "python",
   "name": "python3"
  },
  "language_info": {
   "codemirror_mode": {
    "name": "ipython",
    "version": 3
   },
   "file_extension": ".py",
   "mimetype": "text/x-python",
   "name": "python",
   "nbconvert_exporter": "python",
   "pygments_lexer": "ipython3",
   "version": "3.7.4-final"
  }
 },
 "nbformat": 4,
 "nbformat_minor": 2
}
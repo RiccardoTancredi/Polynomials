{
 "cells": [
  {
   "cell_type": "markdown",
   "metadata": {},
   "source": [
    "# Polynomials Class"
   ]
  },
  {
   "cell_type": "code",
   "execution_count": 1,
   "metadata": {},
   "outputs": [],
   "source": [
    "from sympy import *\n",
    "import numpy as np\n",
    "x = Symbol('x')\n",
    "class polinomio:\n",
    "    def __init__(self, coefficienti: list):\n",
    "        self.coefficienti = coefficienti\n",
    "        self.grado = 0 if len(self.coefficienti) == 0 else len(\n",
    "            self.coefficienti) - 1\n",
    "        i = 0\n",
    "        while i < len(self.coefficienti):\n",
    "            if self.coefficienti[0] == 0:\n",
    "                self.coefficienti.pop(0)\n",
    "            i += 1\n",
    "\n",
    "    # scrittura del polinomio:\n",
    "    def __str__(self):\n",
    "        output = \"\"\n",
    "        for i in range(0, len(self.coefficienti)):\n",
    "            # and x[grado_polinomio]!=0):\n",
    "            if (((self.coefficienti[i] == 1 or self.coefficienti[i] == 1.0) and self.grado-i == 1)):\n",
    "                output += \"x \"\n",
    "            if self.grado-i == 1 and (self.coefficienti[i] != 0 and self.coefficienti[i] != 1 and self.coefficienti[i] != -1 and self.coefficienti[i] != 1.0 and self.coefficienti[i] != -1.0):\n",
    "                output += \"{}x \".format(self.coefficienti[i])\n",
    "            if self.coefficienti[i] == 0:\n",
    "                pass\n",
    "                # continue\n",
    "            if self.grado-i != 0 and self.grado-i != 1 and (self.coefficienti[i] != 0 and self.coefficienti[i] != 1 and self.coefficienti[i] != -1 and self.coefficienti[i] != 1.0 and self.coefficienti[i] != -1.0):\n",
    "                output += \"{}x^{} \".format(\n",
    "                    self.coefficienti[i], self.grado-i)\n",
    "                # continue\n",
    "                #print(x[i], \"$x^\", grado_polinomio-i, \"$ + \")\n",
    "            if (self.coefficienti[i] == 1 or self.coefficienti[i] == 1.0) and self.grado-i != 1 and self.grado-i != 0:\n",
    "                output += \"x^{} \".format(self.grado-i)\n",
    "                # continue\n",
    "            elif (self.coefficienti[i] == -1 or self.coefficienti[i] == -1.0) and self.grado-i != 1 and self.grado-i != 0:\n",
    "                output += \"- x^{} \".format(self.grado-i)\n",
    "                # continue\n",
    "            elif self.coefficienti[i] != 0 and self.grado-i == 0 and (self.coefficienti[i] != 1 or self.coefficienti[i] != 1.0):\n",
    "                output += \"{} \".format(self.coefficienti[i])\n",
    "            elif self.coefficienti[i] != 0 and self.grado-i == 0 and (self.coefficienti[i] == 1 or self.coefficienti[i] == 1.0):\n",
    "                output += \"1 \"\n",
    "            if ((self.coefficienti[i] == -1 or self.coefficienti[i] == -1.0) and self.grado-i == 1):\n",
    "                output += \"- x \"\n",
    "            if (i != self.grado and self.grado-i != 0) and self.coefficienti[i+1] > 0:\n",
    "                output += \"+ \"\n",
    "                continue\n",
    "        return output\n",
    "    \n",
    "    def latex(self):\n",
    "        latex_polinomio = 0\n",
    "        for i in range(0, len(self.coefficienti)):\n",
    "            # and x[grado_polinomio]!=0):\n",
    "            if (((self.coefficienti[i] == 1 or self.coefficienti[i] == 1.0) and self.grado-i == 1)):\n",
    "                latex_polinomio += x\n",
    "            if self.grado-i == 1 and (self.coefficienti[i] != 0 and self.coefficienti[i] != 1 and self.coefficienti[i] != -1 and self.coefficienti[i] != 1.0 and self.coefficienti[i] != -1.0):\n",
    "                latex_polinomio += self.coefficienti[i]*x\n",
    "            if self.coefficienti[i] == 0:\n",
    "                pass\n",
    "                # continue\n",
    "            if self.grado-i != 0 and self.grado-i != 1 and (self.coefficienti[i] != 0 and self.coefficienti[i] != 1 and self.coefficienti[i] != -1 and self.coefficienti[i] != 1.0 and self.coefficienti[i] != -1.0):\n",
    "                latex_polinomio += self.coefficienti[i]*x**(self.grado-i)\n",
    "                # continue\n",
    "                #print(x[i], \"$x^\", grado_polinomio-i, \"$ + \")\n",
    "            if (self.coefficienti[i] == 1 or self.coefficienti[i] == 1.0) and self.grado-i != 1 and self.grado-i != 0:\n",
    "                latex_polinomio += x**(self.grado-i)\n",
    "                # continue\n",
    "            elif (self.coefficienti[i] == -1 or self.coefficienti[i] == -1.0) and self.grado-i != 1 and self.grado-i != 0:\n",
    "                latex_polinomio += -x**(self.grado-i)\n",
    "                # continue\n",
    "            elif self.coefficienti[i] != 0 and self.grado-i == 0 and (self.coefficienti[i] != 1 or self.coefficienti[i] != 1.0):\n",
    "                latex_polinomio += self.coefficienti[i]\n",
    "            elif self.coefficienti[i] != 0 and self.grado-i == 0 and (self.coefficienti[i] == 1 or self.coefficienti[i] == 1.0):\n",
    "                latex_polinomio += 1\n",
    "            if ((self.coefficienti[i] == -1 or self.coefficienti[i] == -1.0) and self.grado-i == 1):\n",
    "                latex_polinomio += -x\n",
    "#             if (i != self.grado and self.grado-i != 0) and self.coefficienti[i+1] > 0:\n",
    "#                 latex_polinomio += +\n",
    "#                 continue\n",
    "        return latex_polinomio\n",
    "\n",
    "    def __add__(self, y):\n",
    "        if type(y).__name__ != \"polinomio\":\n",
    "            raise Exception(\n",
    "                f\"You are trying to sum a polinomio with a {type(y).__name__}\")\n",
    "\n",
    "        c = []\n",
    "        n = min(len(self.coefficienti), len(y.coefficienti))\n",
    "        m = max(len(self.coefficienti), len(y.coefficienti))\n",
    "        d = []\n",
    "        if m == len(self.coefficienti):\n",
    "            d = self.coefficienti\n",
    "        else:\n",
    "            d = y.coefficienti\n",
    "        for i in range(0, m-n):\n",
    "            c.append(d[i])\n",
    "        if m == len(self.coefficienti):\n",
    "            for j in range(m-n, m):\n",
    "                z = self.coefficienti[j] + y.coefficienti[j-m+n]\n",
    "                c.append(z)\n",
    "        else:\n",
    "            for j in range(m-n, m):\n",
    "                z = self.coefficienti[j-m+n] + y.coefficienti[j]\n",
    "                c.append(z)\n",
    "        i = 0\n",
    "        while i < len(c):\n",
    "            if c[0] == 0:\n",
    "                c.pop(0)\n",
    "            i += 1\n",
    "        d = polinomio(c)\n",
    "        return d\n",
    "\n",
    "    def __sub__(self, y):\n",
    "        c = []\n",
    "        for i in y.coefficienti:\n",
    "            c.append(-i)\n",
    "        f = self + polinomio(c)\n",
    "        return f\n",
    "\n",
    "    def __mul__(self, y):\n",
    "        grado_prodotto = self.grado + y.grado\n",
    "        d = [[], []]\n",
    "        for i in range(len(self.coefficienti)):\n",
    "            for j in range(len(y.coefficienti)):\n",
    "                d[0].append(self.coefficienti[i]*y.coefficienti[j])\n",
    "                d[1].append(i+j)  # grado del monomio\n",
    "        d[1] = d[1][::-1]\n",
    "        # print(d)\n",
    "        for i in range(grado_prodotto+1):\n",
    "            if d[1].count(grado_prodotto-i) > 1:\n",
    "                j = d[1].index(grado_prodotto - i)\n",
    "                #print(\"j vale: \", j)\n",
    "                z = j+1\n",
    "                while z < len(d[1]):\n",
    "                    if d[1][z] == d[1][j]:\n",
    "                        #print(\"z vale:\", z)\n",
    "                        d[0][j] = d[0][j]+d[0][z]\n",
    "                        d[1].pop(z)\n",
    "                        d[0].pop(z)\n",
    "                        # print(d)\n",
    "                    z += 1\n",
    "        i = 0\n",
    "        while i < len(d[0]):\n",
    "            if d[0][0] == 0:\n",
    "                d[0].pop(0)\n",
    "            i += 1\n",
    "        return polinomio(d[0])\n",
    "\n",
    "    def __pow__(self, var: int):\n",
    "        p = self\n",
    "        i = 0\n",
    "        while i < var-1:\n",
    "            p *= self\n",
    "            i += 1\n",
    "        return p\n",
    "\n",
    "    def __truediv__(self, y, c=[]):\n",
    "        d = []\n",
    "        s = self.grado\n",
    "        v = y.grado\n",
    "        grado_polinomio_risultante = s-v\n",
    "        output = 0\n",
    "        if grado_polinomio_risultante > 0:\n",
    "            d.append(self.coefficienti[0]/y.coefficienti[0])\n",
    "            i = 0\n",
    "            while i < grado_polinomio_risultante:\n",
    "                d.append(0)\n",
    "                i += 1\n",
    "            c.append(d[0])\n",
    "            a = polinomio(d)\n",
    "            g = a*y\n",
    "            f = self - g\n",
    "            if (f.grado - y.grado) == 0 and (len(f.coefficienti)-len(c)) > 1:\n",
    "                c.append(0)\n",
    "            if (f.grado-y.grado) < 0 and f.grado != 0:\n",
    "                j = 0\n",
    "                while j < y.grado-f.grado:\n",
    "                    c.append(0)\n",
    "            self = f\n",
    "            return f.__truediv__(y, c)\n",
    "        elif grado_polinomio_risultante == 0:\n",
    "            d.append(self.coefficienti[0]/y.coefficienti[0])\n",
    "            c.append(d[0])\n",
    "            a = polinomio(d)\n",
    "            g = a*y\n",
    "            f = self - g\n",
    "            if f.grado == 0 and (f.coefficienti == [] or f.coefficienti[0] == 0):\n",
    "                return polinomio(c).latex()\n",
    "            elif f.grado >= 0:\n",
    "                self = f\n",
    "                return f.__truediv__(y, c)\n",
    "        elif grado_polinomio_risultante < 0:\n",
    "            output += polinomio(c).latex() + self.latex()/y.latex()\n",
    "#             output += self.latex()/y.latex()\n",
    "#             output += y.latex()\n",
    "#             if polinomio(c).grado != 0:\n",
    "#                 output += \"+\"\n",
    "#             output += \"(\" + str(self) + \")/(\"\n",
    "#             output += str(y) + \")\"\n",
    "            return output\n",
    "\n",
    "        elif s == 0:\n",
    "            return polinomio(c).latex()\n",
    "\n",
    "    def __eq__(self, y):\n",
    "        equality = 0\n",
    "        if len(self.coefficienti) != len(y.coefficienti):\n",
    "            return False\n",
    "        for i in range(len(self.coefficienti)):\n",
    "            if self.coefficienti[i] == y.coefficienti[i]:\n",
    "                equality += 1\n",
    "        if equality == len(self.coefficienti):\n",
    "            return True\n",
    "        else:\n",
    "            return False\n",
    "\n",
    "    def __ne__(self, y):\n",
    "        inequality = 0\n",
    "        if len(self.coefficienti) != len(y.coefficienti):\n",
    "            return True\n",
    "        else:\n",
    "            for i in range(len(self.coefficienti)):\n",
    "                if self.coefficienti[i] != y.coefficienti[i]:\n",
    "                    inequality += 1\n",
    "            if inequality == len(self.coefficienti):\n",
    "                return True\n",
    "            else:\n",
    "                return False\n"
   ]
  },
  {
   "cell_type": "code",
   "execution_count": 2,
   "metadata": {},
   "outputs": [
    {
     "output_type": "execute_result",
     "data": {
      "text/plain": [
       "2*x**4 + 2*x**3 + 4*x**2 + 2*x + 2"
      ],
      "text/latex": "$\\displaystyle 2 x^{4} + 2 x^{3} + 4 x^{2} + 2 x + 2$"
     },
     "metadata": {},
     "execution_count": 2
    }
   ],
   "source": [
    "a = [1, 1, 2, 1, 1]\n",
    "b = [1, 1, 2, 1, 1]\n",
    "c = polinomio(a)\n",
    "d = polinomio(b)\n",
    "(c+d).latex()"
   ]
  },
  {
   "cell_type": "code",
   "execution_count": 3,
   "metadata": {},
   "outputs": [],
   "source": [
    "# a = [1, 0, 2, 0, 1]\n",
    "# b = [1, 0, 1]\n",
    "# c = polinomio(a)\n",
    "# d = polinomio(b)\n",
    "# c/d"
   ]
  },
  {
   "cell_type": "code",
   "execution_count": 4,
   "metadata": {},
   "outputs": [
    {
     "output_type": "execute_result",
     "data": {
      "text/plain": [
       "x**3 + x**2 + x"
      ],
      "text/latex": "$\\displaystyle x^{3} + x^{2} + x$"
     },
     "metadata": {},
     "execution_count": 4
    }
   ],
   "source": [
    "a =  [1,1,1]\n",
    "b = [1,0]\n",
    "c = polinomio(a)\n",
    "d = polinomio(b)\n",
    "(c*d).latex()"
   ]
  },
  {
   "cell_type": "code",
   "execution_count": 5,
   "metadata": {},
   "outputs": [
    {
     "output_type": "execute_result",
     "data": {
      "text/plain": [
       "1/(x + 1)"
      ],
      "text/latex": "$\\displaystyle \\frac{1}{x + 1}$"
     },
     "metadata": {},
     "execution_count": 5
    }
   ],
   "source": [
    "a = [1]\n",
    "b = [1,1]\n",
    "c = polinomio(a)\n",
    "d = polinomio(b)\n",
    "c/d"
   ]
  },
  {
   "cell_type": "code",
   "execution_count": 6,
   "metadata": {},
   "outputs": [],
   "source": [
    "# a = [3,3,3]\n",
    "# b = [3]\n",
    "# c = polinomio(a)\n",
    "# d = polinomio(b)\n",
    "# c/d"
   ]
  },
  {
   "cell_type": "code",
   "execution_count": 7,
   "metadata": {},
   "outputs": [
    {
     "output_type": "stream",
     "name": "stdout",
     "text": [
      "2x^4 + 2x^3 + 4x^2 + 2x + 2 \n"
     ]
    }
   ],
   "source": [
    "a = [1, 1, 2, 1, 1]\n",
    "b = [1, 1, 2, 1, 1]\n",
    "c = polinomio(a)\n",
    "d = polinomio(b)\n",
    "print(c+d)"
   ]
  }
 ],
 "metadata": {
  "kernelspec": {
   "name": "Python 3.7.4 64-bit (conda)",
   "display_name": "Python 3.7.4 64-bit (conda)",
   "metadata": {
    "interpreter": {
     "hash": "b4fbe74a0bbc43fac57c027a0570e294bb797d46e535ed846abed24b280cdda4"
    }
   }
  },
  "language_info": {
   "codemirror_mode": {
    "name": "ipython",
    "version": 3
   },
   "file_extension": ".py",
   "mimetype": "text/x-python",
   "name": "python",
   "nbconvert_exporter": "python",
   "pygments_lexer": "ipython3",
   "version": "3.7.4-final"
  }
 },
 "nbformat": 4,
 "nbformat_minor": 2
}